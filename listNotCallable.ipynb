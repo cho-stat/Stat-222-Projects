{
 "metadata": {
  "name": "\"List not callable\" error"
 },
 "nbformat": 3,
 "nbformat_minor": 0,
 "worksheets": [
  {
   "cells": [
    {
     "cell_type": "heading",
     "level": 2,
     "metadata": {},
     "source": "Reading in your data and replicating your analysis"
    },
    {
     "cell_type": "code",
     "collapsed": false,
     "input": "import os\nprint os.getcwd()\nos.chdir(\"/Users/pandatop/Downloads/temp\")",
     "language": "python",
     "metadata": {},
     "outputs": [
      {
       "output_type": "stream",
       "stream": "stdout",
       "text": "/Users/pandatop/Downloads/temp\n"
      }
     ],
     "prompt_number": 9
    },
    {
     "cell_type": "code",
     "collapsed": false,
     "input": "from pandas import read_csv\ndf = read_csv(\"daily.csv\", )",
     "language": "python",
     "metadata": {},
     "outputs": [],
     "prompt_number": 10
    },
    {
     "cell_type": "code",
     "collapsed": false,
     "input": "Date= tuple(df['Date'])\nPrice= tuple(df['Adj Close'])",
     "language": "python",
     "metadata": {},
     "outputs": [],
     "prompt_number": 11
    },
    {
     "cell_type": "code",
     "collapsed": false,
     "input": "Price2=[0 for i in range(15914)]\nDate2 = [0 for i in range(15914)]",
     "language": "python",
     "metadata": {},
     "outputs": [],
     "prompt_number": 12
    },
    {
     "cell_type": "code",
     "collapsed": false,
     "input": "import numpy\nfor x in range(60, 15973):\n Price2[15973-x] = numpy.mean(Price[x-60:x+60]) \n Date2[15973-x] = Date[x]",
     "language": "python",
     "metadata": {},
     "outputs": [],
     "prompt_number": 15
    },
    {
     "cell_type": "code",
     "collapsed": false,
     "input": "from pylab import *\nx = range(0, 15914)\nplot(x,Price2)\n",
     "language": "python",
     "metadata": {},
     "outputs": [
      {
       "metadata": {},
       "output_type": "pyout",
       "prompt_number": 43,
       "text": "[<matplotlib.lines.Line2D at 0x10ea69c50>]"
      }
     ],
     "prompt_number": 43
    },
    {
     "cell_type": "heading",
     "level": 2,
     "metadata": {},
     "source": "An alternative: Using the function argrelmax"
    },
    {
     "cell_type": "markdown",
     "metadata": {},
     "source": "The function <code>argrelmax</code> from the signal module in scipy will return the indices of relative maxima for you. You can easily change how wide you want the window to be. Below I have it set to check if a point is the maximum within 100 points on either side. "
    },
    {
     "cell_type": "code",
     "collapsed": false,
     "input": "from scipy.signal import argrelmax\n# use the \"order\" option below to control how wide the window is for a local maximum\nlocalMaxes = argrelmax(numpy.array(Price2), order=100)[0]\nplot([x[i] for i in localMaxes], [Price2[i] for i in localMaxes], 'ro')\nshow()",
     "language": "python",
     "metadata": {},
     "outputs": [],
     "prompt_number": 44
    },
    {
     "cell_type": "heading",
     "level": 2,
     "metadata": {},
     "source": "Issues with your original code"
    },
    {
     "cell_type": "markdown",
     "metadata": {},
     "source": "It's unclear to me why you originally had <code>max = range(0, 15853)</code> in your code. Why would you define the max to be a sequence from 0 to 15853? \n\nThat aside, I suspect your code failed because your x-range didn't make sense. You're looking at the x-60th to the x+60th elements of Price2, and this only makes sense if x is at least 60. Otherwise you wind up doing something like <code>Price2[-60:60]</code>, which should return an empty list. "
    },
    {
     "cell_type": "code",
     "collapsed": false,
     "input": "for x in range(60, 15853):\n    if Price2[x] == max(Price2[x-60:x+60]):\n        print x, Price2[x]",
     "language": "python",
     "metadata": {},
     "outputs": [
      {
       "output_type": "stream",
       "stream": "stdout",
       "text": "607 25.68225\n1445 47.7054166667\n1706 46.5265833333\n2220 58.2685833333\n2854 70.1736666667\n3658 87.1491666667\n3834 91.9059166667\n4308 94.9358333333\n4568 102.99725\n5168 100.219166667\n5605 114.752916667\n6242 88.9998333333\n6552 103.464166667\n6998 100.44325\n7341 108.510583333\n7634 133.155833333\n8288 166.107833333\n9267"
      },
      {
       "output_type": "stream",
       "stream": "stdout",
       "text": " 309.77\n9835 346.256833333\n9983 348.265166667\n10895 467.390416667\n12012 1111.21808333\n12526 1465.45025\n12931 1131.67425\n13482 1128.197\n13967 1285.21816667\n14323 1506.61716667\n14962 1136.18975\n15261 1317.94691667\n"
      }
     ],
     "prompt_number": 54
    },
    {
     "cell_type": "code",
     "collapsed": false,
     "input": "",
     "language": "python",
     "metadata": {},
     "outputs": []
    }
   ],
   "metadata": {}
  }
 ]
}