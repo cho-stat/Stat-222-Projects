{
 "metadata": {
  "name": "Querying Yahoo Historical Data"
 },
 "nbformat": 3,
 "nbformat_minor": 0,
 "worksheets": [
  {
   "cells": [
    {
     "cell_type": "code",
     "collapsed": false,
     "input": "import pandas as pd\nimport pandas.io.data as web\nimport datetime as date\nimport scipy.stats as stats\nimport numpy as np\nimport matplotlib.pyplot as plt\nimport statsmodels.api as sm\nimport os\nimport errno",
     "language": "python",
     "metadata": {},
     "outputs": [],
     "prompt_number": 171
    },
    {
     "cell_type": "heading",
     "level": 3,
     "metadata": {},
     "source": "Reading in stock symbols"
    },
    {
     "cell_type": "markdown",
     "metadata": {},
     "source": "Pulling a list of all nasdaq symbols from the web:"
    },
    {
     "cell_type": "code",
     "collapsed": false,
     "input": "nasdaq = pd.io.parsers.read_csv(\"http://www.nasdaq.com/screening/companies-by-industry.aspx?exchange=NASDAQ&render=download\")",
     "language": "python",
     "metadata": {},
     "outputs": [],
     "prompt_number": 172
    },
    {
     "cell_type": "markdown",
     "metadata": {},
     "source": "To Jeff---This is an unrelated question, but I'm not sure why you're only taking the ones that are less than 5 in length? In the code below, I'm following your lead and doing the same. \n\nMaybe you already know this, but the fifth letter has some conventions to it, which are explained here: http://www.investopedia.com/ask/answers/06/nasdaqfifthletter.asp. For example, 'Q' means a company is in bankruptcy. In that case, I imagine they could still have valuable historical stock information regardless of their solvency status. I'm wondering if you made the choice to exclude the five-letter symbols because you didn't want stocks that had been given a 5th letter?\n\nFurther, there are only a few that are strictly longer than five characters in length, and they just seem to be misformatted---you could easily clean them. "
    },
    {
     "cell_type": "code",
     "collapsed": false,
     "input": "criterion = nasdaq['Symbol'].map(lambda x: len(x)<5)\nsymbols = nasdaq.Symbol[criterion]",
     "language": "python",
     "metadata": {},
     "outputs": [],
     "prompt_number": 173
    },
    {
     "cell_type": "code",
     "collapsed": false,
     "input": "unused=nasdaq['Symbol'].map(lambda x: len(x)==5)\nprint nasdaq.Symbol[unused][0:10]",
     "language": "python",
     "metadata": {},
     "outputs": [
      {
       "output_type": "stream",
       "stream": "stdout",
       "text": "47     ADXSW\n103    AMBCW\n117    AALCP\n119    AGNCP\n132    ARCPP\n135    AMSWA\n142    ASRVP\n164    APAGF\n177    AQUUU\n178    AQUUW\nName: Symbol, dtype: object\n"
      }
     ],
     "prompt_number": 174
    },
    {
     "cell_type": "code",
     "collapsed": false,
     "input": "# longer than five in length\nunused = nasdaq['Symbol'].map(lambda x: len(x)>5)\nprint nasdaq.Symbol[unused]",
     "language": "python",
     "metadata": {},
     "outputs": [
      {
       "output_type": "stream",
       "stream": "stdout",
       "text": "352     BLIN          \n561     COA           \n846     ENZY          \n852     EAC           \n1135    HART          \n1854    PACT          \n2490    TORM          \nName: Symbol, dtype: object\n"
      }
     ],
     "prompt_number": 175
    },
    {
     "cell_type": "heading",
     "level": 3,
     "metadata": {},
     "source": "Diagnosing the problem: missing data!"
    },
    {
     "cell_type": "markdown",
     "metadata": {},
     "source": "I ran into the same issues with DataReader as you (Jeff) did, so I tried working with some of the base functions from the io.data module. Here's a little for-loop that pulls data for the first 500 symbols and prints the original error message if it fails. I used a much smaller time frame than yours for speed, really: Nov 12-15, 2013.\n\nI wrote this bit of code because I originally thought part of the problem was that DataReader was making too many queries too fast. The Google Maps API, for instance, has a restriction on both the total number of queries you can make in a day and the rate at which you send them (see here: https://developers.google.com/bigquery/quota-policy#imports) I found some sites where people were talking about how Yahoo had blocked access to a data table for exceeding some quota, and wanted to rule that possibility out. I messed with the 'pause' and 'retry_count' arguments of the get_hist_yahoo function so as to space out different requests.\n\nFurther, I was tired of the lengthy error messages python spat out for DataReader when I just wanted a succinct list of what stocks had failed.\n\nAs you'll see below, the problem isn't a quota for queries or anything like that. We actually have a pretty simple missing data issue!"
    },
    {
     "cell_type": "code",
     "collapsed": false,
     "input": "stocks2={}\ni=1\nfor sym in symbols[0:500]:\n    try:\n        stocks2[sym]=web._get_hist_yahoo(sym, date.datetime(2013,11,12), date.datetime(2013,11,15), 3, 0.001)   \n    except IOError as err:\n        print 'cannot get stock:', sym, ', no:', i\n        stocks2[sym]='cannot get stock'\n    i+=1",
     "language": "python",
     "metadata": {},
     "outputs": [
      {
       "output_type": "stream",
       "stream": "stdout",
       "text": "cannot get stock: AKER , no: 67\ncannot get stock:"
      },
      {
       "output_type": "stream",
       "stream": "stdout",
       "text": " AMDA , no: 109\ncannot get stock:"
      },
      {
       "output_type": "stream",
       "stream": "stdout",
       "text": " ACSF , no: 118\ncannot get stock:"
      },
      {
       "output_type": "stream",
       "stream": "stdout",
       "text": " ARGS , no: 178\ncannot get stock:"
      },
      {
       "output_type": "stream",
       "stream": "stdout",
       "text": " ASPX , no: 227\ncannot get stock:"
      },
      {
       "output_type": "stream",
       "stream": "stdout",
       "text": " BIOC , no: 278\ncannot get stock:"
      },
      {
       "output_type": "stream",
       "stream": "stdout",
       "text": " CACQ , no: 355\ncannot get stock:"
      },
      {
       "output_type": "stream",
       "stream": "stdout",
       "text": " CAMB , no: 372\ncannot get stock:"
      },
      {
       "output_type": "stream",
       "stream": "stdout",
       "text": " CARA , no: 389\ncannot get stock:"
      },
      {
       "output_type": "stream",
       "stream": "stdout",
       "text": " CLDN , no: 421\ncannot get stock:"
      },
      {
       "output_type": "stream",
       "stream": "stdout",
       "text": " CLTX , no: 425\ncannot get stock:"
      },
      {
       "output_type": "stream",
       "stream": "stdout",
       "text": " CREG , no: 477\n"
      }
     ],
     "prompt_number": 176
    },
    {
     "cell_type": "markdown",
     "metadata": {},
     "source": "AKER is one of the stocks that could be queried. The symbol stands for Aker Biosciences. If you do a simple Google search, you'll find that AKER didn't have its initial public offering until late January 2014, after the end date of our query above. A link here: http://finance.yahoo.com/news/akers-biosciences-inc-announces-pricing-180500267.html\n\nLikewise, the second stock, Amedica Corporation (AMDA), didn't have its initial public offering until early February 2014, and first traded in mid-February: http://globenewswire.com/news-release/2014/02/13/610024/10068316/en/Amedica-Corporation-Announces-Pricing-of-Initial-Public-Offering.html\n\nCARA Therapeutics (CARA) went public in February 2014 as well, and started trading a couple of days ago: http://finance.yahoo.com/news/cara-therapeutics-announces-pricing-initial-120000029.html \n\nIt makes sense, then, that we can't query this data---they didn't exist until after the given timeframe! \n\nIndeed, below, when I try running the code just for AKER, I get an error message saying that Yahoo! didn't return anything after three attempts to access AKER's prices."
    },
    {
     "cell_type": "code",
     "collapsed": false,
     "input": "web._get_hist_yahoo('AKER', date.datetime(2013,11,12), date.datetime(2013,11,15), 3, 0.01)",
     "language": "python",
     "metadata": {},
     "outputs": [
      {
       "ename": "IOError",
       "evalue": "after 3 tries, Yahoo! did not return a 200 for url 'http://ichart.yahoo.com/table.csv?s=AKER&a=10&b=12&c=2013&d=10&e=15&f=2013&g=d&ignore=.csv'",
       "output_type": "pyerr",
       "traceback": [
        "\u001b[0;31m---------------------------------------------------------------------------\u001b[0m\n\u001b[0;31mIOError\u001b[0m                                   Traceback (most recent call last)",
        "\u001b[0;32m<ipython-input-177-4a3b69bad929>\u001b[0m in \u001b[0;36m<module>\u001b[0;34m()\u001b[0m\n\u001b[0;32m----> 1\u001b[0;31m \u001b[0mweb\u001b[0m\u001b[0;34m.\u001b[0m\u001b[0m_get_hist_yahoo\u001b[0m\u001b[0;34m(\u001b[0m\u001b[0;34m'AKER'\u001b[0m\u001b[0;34m,\u001b[0m \u001b[0mdate\u001b[0m\u001b[0;34m.\u001b[0m\u001b[0mdatetime\u001b[0m\u001b[0;34m(\u001b[0m\u001b[0;36m2013\u001b[0m\u001b[0;34m,\u001b[0m\u001b[0;36m11\u001b[0m\u001b[0;34m,\u001b[0m\u001b[0;36m12\u001b[0m\u001b[0;34m)\u001b[0m\u001b[0;34m,\u001b[0m \u001b[0mdate\u001b[0m\u001b[0;34m.\u001b[0m\u001b[0mdatetime\u001b[0m\u001b[0;34m(\u001b[0m\u001b[0;36m2013\u001b[0m\u001b[0;34m,\u001b[0m\u001b[0;36m11\u001b[0m\u001b[0;34m,\u001b[0m\u001b[0;36m15\u001b[0m\u001b[0;34m)\u001b[0m\u001b[0;34m,\u001b[0m \u001b[0;36m3\u001b[0m\u001b[0;34m,\u001b[0m \u001b[0;36m0.01\u001b[0m\u001b[0;34m)\u001b[0m\u001b[0;34m\u001b[0m\u001b[0m\n\u001b[0m",
        "\u001b[0;32m/Users/pandatop/anaconda/lib/python2.7/site-packages/pandas/io/data.pyc\u001b[0m in \u001b[0;36m_get_hist_yahoo\u001b[0;34m(sym, start, end, retry_count, pause)\u001b[0m\n\u001b[1;32m    194\u001b[0m            \u001b[0;34m'&g=d'\u001b[0m \u001b[0;34m+\u001b[0m\u001b[0;34m\u001b[0m\u001b[0m\n\u001b[1;32m    195\u001b[0m            '&ignore=.csv')\n\u001b[0;32m--> 196\u001b[0;31m     \u001b[0;32mreturn\u001b[0m \u001b[0m_retry_read_url\u001b[0m\u001b[0;34m(\u001b[0m\u001b[0murl\u001b[0m\u001b[0;34m,\u001b[0m \u001b[0mretry_count\u001b[0m\u001b[0;34m,\u001b[0m \u001b[0mpause\u001b[0m\u001b[0;34m,\u001b[0m \u001b[0;34m'Yahoo!'\u001b[0m\u001b[0;34m)\u001b[0m\u001b[0;34m\u001b[0m\u001b[0m\n\u001b[0m\u001b[1;32m    197\u001b[0m \u001b[0;34m\u001b[0m\u001b[0m\n\u001b[1;32m    198\u001b[0m \u001b[0;34m\u001b[0m\u001b[0m\n",
        "\u001b[0;32m/Users/pandatop/anaconda/lib/python2.7/site-packages/pandas/io/data.pyc\u001b[0m in \u001b[0;36m_retry_read_url\u001b[0;34m(url, retry_count, pause, name)\u001b[0m\n\u001b[1;32m    173\u001b[0m \u001b[0;34m\u001b[0m\u001b[0m\n\u001b[1;32m    174\u001b[0m     raise IOError(\"after %d tries, %s did not \"\n\u001b[0;32m--> 175\u001b[0;31m                   \"return a 200 for url %r\" % (retry_count, name, url))\n\u001b[0m\u001b[1;32m    176\u001b[0m \u001b[0;34m\u001b[0m\u001b[0m\n\u001b[1;32m    177\u001b[0m \u001b[0;34m\u001b[0m\u001b[0m\n",
        "\u001b[0;31mIOError\u001b[0m: after 3 tries, Yahoo! did not return a 200 for url 'http://ichart.yahoo.com/table.csv?s=AKER&a=10&b=12&c=2013&d=10&e=15&f=2013&g=d&ignore=.csv'"
       ]
      }
     ],
     "prompt_number": 177
    },
    {
     "cell_type": "markdown",
     "metadata": {},
     "source": "Let's see what happens when we use DataReader for a set of stocks in which one will not have any data. Here, we'll query for Google, Apple, and CARA Therapeutics for the time frame February 1-10, 2014, knowing that CARA Therapeutics didn't exist yet. \n\nIf DataReader is nice, we hope that it will give us a Panel object that has NaN's for CARA Therapeutics. However, this is not what happens, as you can see below."
    },
    {
     "cell_type": "code",
     "collapsed": false,
     "input": "test_symbols = pd.Series(['GOOG', 'AAPL', 'CARA'])\ntest_stocks = web.DataReader(test_symbols, \"yahoo\", date.datetime(2014,2,1), date.datetime(2014,2,10), pause=0.001)",
     "language": "python",
     "metadata": {},
     "outputs": [
      {
       "ename": "RemoteDataError",
       "evalue": "No data fetched using '_get_hist_yahoo'",
       "output_type": "pyerr",
       "traceback": [
        "\u001b[0;31m---------------------------------------------------------------------------\u001b[0m\n\u001b[0;31mRemoteDataError\u001b[0m                           Traceback (most recent call last)",
        "\u001b[0;32m<ipython-input-178-043a95ba9937>\u001b[0m in \u001b[0;36m<module>\u001b[0;34m()\u001b[0m\n\u001b[1;32m      1\u001b[0m \u001b[0mtest_symbols\u001b[0m \u001b[0;34m=\u001b[0m \u001b[0mpd\u001b[0m\u001b[0;34m.\u001b[0m\u001b[0mSeries\u001b[0m\u001b[0;34m(\u001b[0m\u001b[0;34m[\u001b[0m\u001b[0;34m'GOOG'\u001b[0m\u001b[0;34m,\u001b[0m \u001b[0;34m'AAPL'\u001b[0m\u001b[0;34m,\u001b[0m \u001b[0;34m'CARA'\u001b[0m\u001b[0;34m]\u001b[0m\u001b[0;34m)\u001b[0m\u001b[0;34m\u001b[0m\u001b[0m\n\u001b[0;32m----> 2\u001b[0;31m \u001b[0mtest_stocks\u001b[0m \u001b[0;34m=\u001b[0m \u001b[0mweb\u001b[0m\u001b[0;34m.\u001b[0m\u001b[0mDataReader\u001b[0m\u001b[0;34m(\u001b[0m\u001b[0mtest_symbols\u001b[0m\u001b[0;34m,\u001b[0m \u001b[0;34m\"yahoo\"\u001b[0m\u001b[0;34m,\u001b[0m \u001b[0mdate\u001b[0m\u001b[0;34m.\u001b[0m\u001b[0mdatetime\u001b[0m\u001b[0;34m(\u001b[0m\u001b[0;36m2014\u001b[0m\u001b[0;34m,\u001b[0m\u001b[0;36m2\u001b[0m\u001b[0;34m,\u001b[0m\u001b[0;36m1\u001b[0m\u001b[0;34m)\u001b[0m\u001b[0;34m,\u001b[0m \u001b[0mdate\u001b[0m\u001b[0;34m.\u001b[0m\u001b[0mdatetime\u001b[0m\u001b[0;34m(\u001b[0m\u001b[0;36m2014\u001b[0m\u001b[0;34m,\u001b[0m\u001b[0;36m2\u001b[0m\u001b[0;34m,\u001b[0m\u001b[0;36m10\u001b[0m\u001b[0;34m)\u001b[0m\u001b[0;34m,\u001b[0m \u001b[0mpause\u001b[0m\u001b[0;34m=\u001b[0m\u001b[0;36m0.001\u001b[0m\u001b[0;34m)\u001b[0m\u001b[0;34m\u001b[0m\u001b[0m\n\u001b[0m",
        "\u001b[0;32m/Users/pandatop/anaconda/lib/python2.7/site-packages/pandas/io/data.pyc\u001b[0m in \u001b[0;36mDataReader\u001b[0;34m(name, data_source, start, end, retry_count, pause)\u001b[0m\n\u001b[1;32m     75\u001b[0m         return get_data_yahoo(symbols=name, start=start, end=end,\n\u001b[1;32m     76\u001b[0m                               \u001b[0madjust_price\u001b[0m\u001b[0;34m=\u001b[0m\u001b[0mFalse\u001b[0m\u001b[0;34m,\u001b[0m \u001b[0mchunksize\u001b[0m\u001b[0;34m=\u001b[0m\u001b[0;36m25\u001b[0m\u001b[0;34m,\u001b[0m\u001b[0;34m\u001b[0m\u001b[0m\n\u001b[0;32m---> 77\u001b[0;31m                               retry_count=retry_count, pause=pause)\n\u001b[0m\u001b[1;32m     78\u001b[0m     \u001b[0;32melif\u001b[0m \u001b[0mdata_source\u001b[0m \u001b[0;34m==\u001b[0m \u001b[0;34m\"google\"\u001b[0m\u001b[0;34m:\u001b[0m\u001b[0;34m\u001b[0m\u001b[0m\n\u001b[1;32m     79\u001b[0m         return get_data_google(symbols=name, start=start, end=end,\n",
        "\u001b[0;32m/Users/pandatop/anaconda/lib/python2.7/site-packages/pandas/io/data.pyc\u001b[0m in \u001b[0;36mget_data_yahoo\u001b[0;34m(symbols, start, end, retry_count, pause, adjust_price, ret_index, chunksize, name)\u001b[0m\n\u001b[1;32m    394\u001b[0m     \"\"\"\n\u001b[1;32m    395\u001b[0m     return _get_data_from(symbols, start, end, retry_count, pause,\n\u001b[0;32m--> 396\u001b[0;31m                           adjust_price, ret_index, chunksize, 'yahoo', name)\n\u001b[0m\u001b[1;32m    397\u001b[0m \u001b[0;34m\u001b[0m\u001b[0m\n\u001b[1;32m    398\u001b[0m \u001b[0;34m\u001b[0m\u001b[0m\n",
        "\u001b[0;32m/Users/pandatop/anaconda/lib/python2.7/site-packages/pandas/io/data.pyc\u001b[0m in \u001b[0;36m_get_data_from\u001b[0;34m(symbols, start, end, retry_count, pause, adjust_price, ret_index, chunksize, source, name)\u001b[0m\n\u001b[1;32m    347\u001b[0m     \u001b[0;32melse\u001b[0m\u001b[0;34m:\u001b[0m\u001b[0;34m\u001b[0m\u001b[0m\n\u001b[1;32m    348\u001b[0m         hist_data = _dl_mult_symbols(symbols, start, end, chunksize,\n\u001b[0;32m--> 349\u001b[0;31m                                      retry_count, pause, src_fn)\n\u001b[0m\u001b[1;32m    350\u001b[0m     \u001b[0;32mif\u001b[0m \u001b[0msource\u001b[0m\u001b[0;34m.\u001b[0m\u001b[0mlower\u001b[0m\u001b[0;34m(\u001b[0m\u001b[0;34m)\u001b[0m \u001b[0;34m==\u001b[0m \u001b[0;34m'yahoo'\u001b[0m\u001b[0;34m:\u001b[0m\u001b[0;34m\u001b[0m\u001b[0m\n\u001b[1;32m    351\u001b[0m         \u001b[0;32mif\u001b[0m \u001b[0mret_index\u001b[0m\u001b[0;34m:\u001b[0m\u001b[0;34m\u001b[0m\u001b[0m\n",
        "\u001b[0;32m/Users/pandatop/anaconda/lib/python2.7/site-packages/pandas/io/data.pyc\u001b[0m in \u001b[0;36m_dl_mult_symbols\u001b[0;34m(symbols, start, end, chunksize, retry_count, pause, method)\u001b[0m\n\u001b[1;32m    323\u001b[0m         \u001b[0;31m# cannot construct a panel with just 1D nans indicating no data\u001b[0m\u001b[0;34m\u001b[0m\u001b[0;34m\u001b[0m\u001b[0m\n\u001b[1;32m    324\u001b[0m         raise RemoteDataError(\"No data fetched using \"\n\u001b[0;32m--> 325\u001b[0;31m                               \"{0!r}\".format(method.__name__))\n\u001b[0m\u001b[1;32m    326\u001b[0m \u001b[0;34m\u001b[0m\u001b[0m\n\u001b[1;32m    327\u001b[0m \u001b[0;34m\u001b[0m\u001b[0m\n",
        "\u001b[0;31mRemoteDataError\u001b[0m: No data fetched using '_get_hist_yahoo'"
       ]
      }
     ],
     "prompt_number": 178
    },
    {
     "cell_type": "code",
     "collapsed": false,
     "input": "test_stocks",
     "language": "python",
     "metadata": {},
     "outputs": [
      {
       "ename": "NameError",
       "evalue": "name 'test_stocks' is not defined",
       "output_type": "pyerr",
       "traceback": [
        "\u001b[0;31m---------------------------------------------------------------------------\u001b[0m\n\u001b[0;31mNameError\u001b[0m                                 Traceback (most recent call last)",
        "\u001b[0;32m<ipython-input-179-6386dd526449>\u001b[0m in \u001b[0;36m<module>\u001b[0;34m()\u001b[0m\n\u001b[0;32m----> 1\u001b[0;31m \u001b[0mtest_stocks\u001b[0m\u001b[0;34m\u001b[0m\u001b[0m\n\u001b[0m",
        "\u001b[0;31mNameError\u001b[0m: name 'test_stocks' is not defined"
       ]
      }
     ],
     "prompt_number": 179
    },
    {
     "cell_type": "markdown",
     "metadata": {},
     "source": "DataReader didn't know what to do with the stock that had missing data, so it didn't spit out anything, even though Google and Apple may have queried fine. This happens because the CARA Therapeutics query resulted in a NaN, while the other two resulted in 2D tables. When DataReader tries to coerce these tables into a 3D Panel object, it doesn't know how to handle the 1D item NaN, more or less. \n\nUnfortunately, DataReader doesn't have an argument to ignore the missingness, so the only workaround I could think of was to build up an alternative using the base functions in the io.data module."
    },
    {
     "cell_type": "heading",
     "level": 3,
     "metadata": {},
     "source": "A workaround to handle the missingness"
    },
    {
     "cell_type": "code",
     "collapsed": false,
     "input": "stocks={}\n# a list of stocks for which the pull failed\nstocks_failed=[] \ni=1\nfor sym in symbols[0:500]:\n    try:\n        stocks[sym]=web._get_hist_yahoo(sym, date.datetime(2000,1,1), date.datetime(2014,1,1), 3, 0.001)   \n    except IOError as err:\n        print 'cannot get stock:', sym, ', index:', i\n        stocks_failed.append(sym)\n    i+=1",
     "language": "python",
     "metadata": {},
     "outputs": [
      {
       "output_type": "stream",
       "stream": "stdout",
       "text": "cannot get stock: AKER , index: 67\ncannot get stock:"
      },
      {
       "output_type": "stream",
       "stream": "stdout",
       "text": " AMDA , index: 109\ncannot get stock:"
      },
      {
       "output_type": "stream",
       "stream": "stdout",
       "text": " ACSF , index: 118\ncannot get stock:"
      },
      {
       "output_type": "stream",
       "stream": "stdout",
       "text": " ARGS , index: 178\ncannot get stock:"
      },
      {
       "output_type": "stream",
       "stream": "stdout",
       "text": " ASPX , index: 227\ncannot get stock:"
      },
      {
       "output_type": "stream",
       "stream": "stdout",
       "text": " BIOC , index: 278\ncannot get stock:"
      },
      {
       "output_type": "stream",
       "stream": "stdout",
       "text": " CAMB , index: 372\ncannot get stock:"
      },
      {
       "output_type": "stream",
       "stream": "stdout",
       "text": " CARA , index: 389\ncannot get stock:"
      },
      {
       "output_type": "stream",
       "stream": "stdout",
       "text": " CLDN , index: 421\ncannot get stock:"
      },
      {
       "output_type": "stream",
       "stream": "stdout",
       "text": " CLTX , index: 425\ncannot get stock:"
      },
      {
       "output_type": "stream",
       "stream": "stdout",
       "text": " CREG , index: 477\n"
      }
     ],
     "prompt_number": 180
    },
    {
     "cell_type": "markdown",
     "metadata": {},
     "source": "You're probably aware of this, but note that not all of the stocks that were queried are going to have data for all of the dates---just so long as they have *some* dates within the timeframe Jan 1, 2000 - Jan 1, 2014, we pull that data down. For instance, CACQ only began trading in late 2013, but still appears in the table. It has the smallest amount of data, totaling 29 dates in all (compared to 3500+ for other companies)."
    },
    {
     "cell_type": "code",
     "collapsed": false,
     "input": "num_days = []\nfor keys in stocks.keys():\n    num_days.append(len(stocks[keys]))\n\n# which of these is smallest\nstocks.keys()[np.argmin(num_days)]\n# show this stock's table\nstocks['CACQ']",
     "language": "python",
     "metadata": {},
     "outputs": [
      {
       "html": "<div style=\"max-height:1000px;max-width:1500px;overflow:auto;\">\n<table border=\"1\" class=\"dataframe\">\n  <thead>\n    <tr style=\"text-align: right;\">\n      <th></th>\n      <th>Open</th>\n      <th>High</th>\n      <th>Low</th>\n      <th>Close</th>\n      <th>Volume</th>\n      <th>Adj Close</th>\n    </tr>\n    <tr>\n      <th>Date</th>\n      <th></th>\n      <th></th>\n      <th></th>\n      <th></th>\n      <th></th>\n      <th></th>\n    </tr>\n  </thead>\n  <tbody>\n    <tr>\n      <th>2013-11-19</th>\n      <td> 11.90</td>\n      <td> 12.10</td>\n      <td> 10.72</td>\n      <td> 11.05</td>\n      <td> 3922800</td>\n      <td> 11.05</td>\n    </tr>\n    <tr>\n      <th>2013-11-20</th>\n      <td> 10.34</td>\n      <td> 11.00</td>\n      <td> 10.34</td>\n      <td> 10.80</td>\n      <td> 2710800</td>\n      <td> 10.80</td>\n    </tr>\n    <tr>\n      <th>2013-11-21</th>\n      <td> 10.69</td>\n      <td> 11.27</td>\n      <td> 10.55</td>\n      <td> 10.61</td>\n      <td> 1819900</td>\n      <td> 10.61</td>\n    </tr>\n    <tr>\n      <th>2013-11-22</th>\n      <td> 10.63</td>\n      <td> 10.85</td>\n      <td> 10.50</td>\n      <td> 10.75</td>\n      <td>  829500</td>\n      <td> 10.75</td>\n    </tr>\n    <tr>\n      <th>2013-11-25</th>\n      <td> 11.00</td>\n      <td> 11.25</td>\n      <td> 10.81</td>\n      <td> 11.10</td>\n      <td> 1878400</td>\n      <td> 11.10</td>\n    </tr>\n    <tr>\n      <th>2013-11-26</th>\n      <td> 11.24</td>\n      <td> 12.09</td>\n      <td> 11.11</td>\n      <td> 11.87</td>\n      <td> 1588600</td>\n      <td> 11.87</td>\n    </tr>\n    <tr>\n      <th>2013-11-27</th>\n      <td> 11.97</td>\n      <td> 12.39</td>\n      <td> 11.80</td>\n      <td> 11.81</td>\n      <td> 1024600</td>\n      <td> 11.81</td>\n    </tr>\n    <tr>\n      <th>2013-11-29</th>\n      <td> 12.16</td>\n      <td> 12.42</td>\n      <td> 11.80</td>\n      <td> 12.16</td>\n      <td>  426900</td>\n      <td> 12.16</td>\n    </tr>\n    <tr>\n      <th>2013-12-02</th>\n      <td> 12.29</td>\n      <td> 12.40</td>\n      <td> 11.22</td>\n      <td> 11.50</td>\n      <td>  619500</td>\n      <td> 11.50</td>\n    </tr>\n    <tr>\n      <th>2013-12-03</th>\n      <td> 11.48</td>\n      <td> 11.74</td>\n      <td> 11.24</td>\n      <td> 11.31</td>\n      <td>  351300</td>\n      <td> 11.31</td>\n    </tr>\n    <tr>\n      <th>2013-12-04</th>\n      <td> 11.15</td>\n      <td> 11.57</td>\n      <td> 10.88</td>\n      <td> 11.03</td>\n      <td>  342500</td>\n      <td> 11.03</td>\n    </tr>\n    <tr>\n      <th>2013-12-05</th>\n      <td> 10.96</td>\n      <td> 11.40</td>\n      <td> 10.96</td>\n      <td> 11.27</td>\n      <td>  297600</td>\n      <td> 11.27</td>\n    </tr>\n    <tr>\n      <th>2013-12-06</th>\n      <td> 11.29</td>\n      <td> 11.60</td>\n      <td> 11.00</td>\n      <td> 11.27</td>\n      <td>  236100</td>\n      <td> 11.27</td>\n    </tr>\n    <tr>\n      <th>2013-12-09</th>\n      <td> 11.01</td>\n      <td> 11.41</td>\n      <td> 10.90</td>\n      <td> 11.35</td>\n      <td>  421800</td>\n      <td> 11.35</td>\n    </tr>\n    <tr>\n      <th>2013-12-10</th>\n      <td> 11.75</td>\n      <td> 11.75</td>\n      <td> 11.13</td>\n      <td> 11.35</td>\n      <td>  197900</td>\n      <td> 11.35</td>\n    </tr>\n    <tr>\n      <th>2013-12-11</th>\n      <td> 11.42</td>\n      <td> 11.70</td>\n      <td> 11.22</td>\n      <td> 11.57</td>\n      <td>  185200</td>\n      <td> 11.57</td>\n    </tr>\n    <tr>\n      <th>2013-12-12</th>\n      <td> 11.60</td>\n      <td> 11.90</td>\n      <td> 11.37</td>\n      <td> 11.78</td>\n      <td>  217400</td>\n      <td> 11.78</td>\n    </tr>\n    <tr>\n      <th>2013-12-13</th>\n      <td> 11.90</td>\n      <td> 11.90</td>\n      <td> 11.61</td>\n      <td> 11.78</td>\n      <td>  196100</td>\n      <td> 11.78</td>\n    </tr>\n    <tr>\n      <th>2013-12-16</th>\n      <td> 12.00</td>\n      <td> 12.19</td>\n      <td> 11.84</td>\n      <td> 12.04</td>\n      <td>  595200</td>\n      <td> 12.04</td>\n    </tr>\n    <tr>\n      <th>2013-12-17</th>\n      <td> 11.81</td>\n      <td> 12.13</td>\n      <td> 11.71</td>\n      <td> 11.96</td>\n      <td>  177600</td>\n      <td> 11.96</td>\n    </tr>\n    <tr>\n      <th>2013-12-18</th>\n      <td> 12.04</td>\n      <td> 12.07</td>\n      <td> 11.73</td>\n      <td> 11.94</td>\n      <td>  173600</td>\n      <td> 11.94</td>\n    </tr>\n    <tr>\n      <th>2013-12-19</th>\n      <td> 12.02</td>\n      <td> 12.08</td>\n      <td> 11.90</td>\n      <td> 11.96</td>\n      <td>  265300</td>\n      <td> 11.96</td>\n    </tr>\n    <tr>\n      <th>2013-12-20</th>\n      <td> 12.02</td>\n      <td> 12.08</td>\n      <td> 11.82</td>\n      <td> 11.92</td>\n      <td>  301900</td>\n      <td> 11.92</td>\n    </tr>\n    <tr>\n      <th>2013-12-23</th>\n      <td> 12.04</td>\n      <td> 12.24</td>\n      <td> 11.96</td>\n      <td> 12.14</td>\n      <td>  146500</td>\n      <td> 12.14</td>\n    </tr>\n    <tr>\n      <th>2013-12-24</th>\n      <td> 12.18</td>\n      <td> 12.30</td>\n      <td> 11.98</td>\n      <td> 12.12</td>\n      <td>   90600</td>\n      <td> 12.12</td>\n    </tr>\n    <tr>\n      <th>2013-12-26</th>\n      <td> 12.06</td>\n      <td> 12.25</td>\n      <td> 12.01</td>\n      <td> 12.22</td>\n      <td>  172200</td>\n      <td> 12.22</td>\n    </tr>\n    <tr>\n      <th>2013-12-27</th>\n      <td> 12.15</td>\n      <td> 12.23</td>\n      <td> 11.89</td>\n      <td> 11.99</td>\n      <td>  155900</td>\n      <td> 11.99</td>\n    </tr>\n    <tr>\n      <th>2013-12-30</th>\n      <td> 11.88</td>\n      <td> 12.10</td>\n      <td> 11.83</td>\n      <td> 11.99</td>\n      <td>   67600</td>\n      <td> 11.99</td>\n    </tr>\n    <tr>\n      <th>2013-12-31</th>\n      <td> 12.05</td>\n      <td> 12.10</td>\n      <td> 11.77</td>\n      <td> 12.06</td>\n      <td>  139800</td>\n      <td> 12.06</td>\n    </tr>\n  </tbody>\n</table>\n<p>29 rows \u00d7 6 columns</p>\n</div>",
       "metadata": {},
       "output_type": "pyout",
       "prompt_number": 181,
       "text": "             Open   High    Low  Close   Volume  Adj Close\nDate                                                      \n2013-11-19  11.90  12.10  10.72  11.05  3922800      11.05\n2013-11-20  10.34  11.00  10.34  10.80  2710800      10.80\n2013-11-21  10.69  11.27  10.55  10.61  1819900      10.61\n2013-11-22  10.63  10.85  10.50  10.75   829500      10.75\n2013-11-25  11.00  11.25  10.81  11.10  1878400      11.10\n2013-11-26  11.24  12.09  11.11  11.87  1588600      11.87\n2013-11-27  11.97  12.39  11.80  11.81  1024600      11.81\n2013-11-29  12.16  12.42  11.80  12.16   426900      12.16\n2013-12-02  12.29  12.40  11.22  11.50   619500      11.50\n2013-12-03  11.48  11.74  11.24  11.31   351300      11.31\n2013-12-04  11.15  11.57  10.88  11.03   342500      11.03\n2013-12-05  10.96  11.40  10.96  11.27   297600      11.27\n2013-12-06  11.29  11.60  11.00  11.27   236100      11.27\n2013-12-09  11.01  11.41  10.90  11.35   421800      11.35\n2013-12-10  11.75  11.75  11.13  11.35   197900      11.35\n2013-12-11  11.42  11.70  11.22  11.57   185200      11.57\n2013-12-12  11.60  11.90  11.37  11.78   217400      11.78\n2013-12-13  11.90  11.90  11.61  11.78   196100      11.78\n2013-12-16  12.00  12.19  11.84  12.04   595200      12.04\n2013-12-17  11.81  12.13  11.71  11.96   177600      11.96\n2013-12-18  12.04  12.07  11.73  11.94   173600      11.94\n2013-12-19  12.02  12.08  11.90  11.96   265300      11.96\n2013-12-20  12.02  12.08  11.82  11.92   301900      11.92\n2013-12-23  12.04  12.24  11.96  12.14   146500      12.14\n2013-12-24  12.18  12.30  11.98  12.12    90600      12.12\n2013-12-26  12.06  12.25  12.01  12.22   172200      12.22\n2013-12-27  12.15  12.23  11.89  11.99   155900      11.99\n2013-12-30  11.88  12.10  11.83  11.99    67600      11.99\n2013-12-31  12.05  12.10  11.77  12.06   139800      12.06\n\n[29 rows x 6 columns]"
      }
     ],
     "prompt_number": 181
    },
    {
     "cell_type": "markdown",
     "metadata": {},
     "source": "Right now, stocks is a dictionary. The code below turns it into a pandas Panel object, which is like a 3-dimensional data frame: http://pandas.pydata.org/pandas-docs/stable/dsintro.html#panel\n(In other words, this is what the output from DataReader would've been, had the code worked.)"
    },
    {
     "cell_type": "code",
     "collapsed": false,
     "input": "stock_data = pd.Panel(stocks)",
     "language": "python",
     "metadata": {},
     "outputs": [],
     "prompt_number": 182
    },
    {
     "cell_type": "code",
     "collapsed": false,
     "input": "stock_data",
     "language": "python",
     "metadata": {},
     "outputs": [
      {
       "metadata": {},
       "output_type": "pyout",
       "prompt_number": 183,
       "text": "<class 'pandas.core.panel.Panel'>\nDimensions: 489 (items) x 3521 (major_axis) x 6 (minor_axis)\nItems axis: AAL to XLRN\nMajor_axis axis: 2000-01-03 00:00:00 to 2013-12-31 00:00:00\nMinor_axis axis: Open to Adj Close"
      }
     ],
     "prompt_number": 183
    },
    {
     "cell_type": "markdown",
     "metadata": {},
     "source": "A Panel has three axes---items, minor, and major. Here, we have the stocks on the items axis rather than the opening or closing prices; those constitute the minor axis instead. So, stock_data['AAL'] would give you a table with all of the prices for each date that's available for that stock. \n\nThis is in a different format than the output from DataReader. DataReader spits out the stock data with the opening and closing prices as the items, so that when you do stock_data['Open'], you get a table with each stock as a column and date as a row. To get it in the same format as DataReader, we'll swap the items and minor axis. "
    },
    {
     "cell_type": "code",
     "collapsed": false,
     "input": "stock_data = pd.Panel(stocks).swapaxes('items', 'minor')",
     "language": "python",
     "metadata": {},
     "outputs": [],
     "prompt_number": 184
    },
    {
     "cell_type": "code",
     "collapsed": false,
     "input": "stock_data['Open']",
     "language": "python",
     "metadata": {},
     "outputs": [
      {
       "html": "<div style=\"max-height:1000px;max-width:1500px;overflow:auto;\">\n<table border=\"1\" class=\"dataframe\">\n  <thead>\n    <tr style=\"text-align: right;\">\n      <th></th>\n      <th>AAL</th>\n      <th>AAME</th>\n      <th>AAOI</th>\n      <th>AAON</th>\n      <th>AAPL</th>\n      <th>AAWW</th>\n      <th>ABAX</th>\n      <th>ABCB</th>\n      <th>ABCD</th>\n      <th>ABFS</th>\n      <th>ABGB</th>\n      <th>ABIO</th>\n      <th>ABMD</th>\n      <th>ABTL</th>\n      <th>ACAD</th>\n      <th>ACAS</th>\n      <th>ACAT</th>\n      <th>ACCL</th>\n      <th>ACET</th>\n      <th>ACFC</th>\n      <th></th>\n    </tr>\n    <tr>\n      <th>Date</th>\n      <th></th>\n      <th></th>\n      <th></th>\n      <th></th>\n      <th></th>\n      <th></th>\n      <th></th>\n      <th></th>\n      <th></th>\n      <th></th>\n      <th></th>\n      <th></th>\n      <th></th>\n      <th></th>\n      <th></th>\n      <th></th>\n      <th></th>\n      <th></th>\n      <th></th>\n      <th></th>\n    </tr>\n  </thead>\n  <tbody>\n    <tr>\n      <th>2000-01-03</th>\n      <td>NaN</td>\n      <td> 2.38</td>\n      <td>NaN</td>\n      <td> 14.75</td>\n      <td> 104.87</td>\n      <td>NaN</td>\n      <td>  7.75</td>\n      <td> 10.94</td>\n      <td>NaN</td>\n      <td> 12.24</td>\n      <td>NaN</td>\n      <td>  17.70</td>\n      <td> 37.03</td>\n      <td> 15.75</td>\n      <td>NaN</td>\n      <td> 22.54</td>\n      <td>  9.94</td>\n      <td> 22.63</td>\n      <td> 11.00</td>\n      <td>NaN</td>\n      <td>...</td>\n    </tr>\n    <tr>\n      <th>2000-01-04</th>\n      <td>NaN</td>\n      <td> 2.38</td>\n      <td>NaN</td>\n      <td> 14.63</td>\n      <td> 108.25</td>\n      <td>NaN</td>\n      <td>  7.63</td>\n      <td> 10.50</td>\n      <td>NaN</td>\n      <td> 12.61</td>\n      <td>NaN</td>\n      <td>  14.51</td>\n      <td> 37.00</td>\n      <td> 15.31</td>\n      <td>NaN</td>\n      <td> 21.62</td>\n      <td> 10.00</td>\n      <td> 21.62</td>\n      <td> 10.38</td>\n      <td>NaN</td>\n      <td>...</td>\n    </tr>\n    <tr>\n      <th>2000-01-05</th>\n      <td>NaN</td>\n      <td> 2.31</td>\n      <td>NaN</td>\n      <td> 14.38</td>\n      <td> 103.75</td>\n      <td>NaN</td>\n      <td>  6.75</td>\n      <td> 10.50</td>\n      <td>NaN</td>\n      <td> 12.74</td>\n      <td>NaN</td>\n      <td>  16.38</td>\n      <td> 34.13</td>\n      <td> 16.19</td>\n      <td>NaN</td>\n      <td> 22.27</td>\n      <td>  9.94</td>\n      <td> 22.50</td>\n      <td> 10.06</td>\n      <td>NaN</td>\n      <td>...</td>\n    </tr>\n    <tr>\n      <th>2000-01-06</th>\n      <td>NaN</td>\n      <td> 2.31</td>\n      <td>NaN</td>\n      <td> 14.63</td>\n      <td> 106.12</td>\n      <td>NaN</td>\n      <td>  7.06</td>\n      <td> 10.69</td>\n      <td>NaN</td>\n      <td> 12.74</td>\n      <td>NaN</td>\n      <td>  18.20</td>\n      <td> 35.25</td>\n      <td> 17.06</td>\n      <td>NaN</td>\n      <td> 22.54</td>\n      <td>  9.88</td>\n      <td> 22.94</td>\n      <td> 10.44</td>\n      <td>NaN</td>\n      <td>...</td>\n    </tr>\n    <tr>\n      <th>2000-01-07</th>\n      <td>NaN</td>\n      <td> 2.31</td>\n      <td>NaN</td>\n      <td> 14.12</td>\n      <td>  96.50</td>\n      <td>NaN</td>\n      <td>  7.16</td>\n      <td> 10.88</td>\n      <td>NaN</td>\n      <td> 13.43</td>\n      <td>NaN</td>\n      <td>  20.52</td>\n      <td> 36.00</td>\n      <td> 17.12</td>\n      <td>NaN</td>\n      <td> 22.27</td>\n      <td>  9.88</td>\n      <td> 28.25</td>\n      <td> 10.94</td>\n      <td>NaN</td>\n      <td>...</td>\n    </tr>\n    <tr>\n      <th>2000-01-10</th>\n      <td>NaN</td>\n      <td> 2.38</td>\n      <td>NaN</td>\n      <td> 13.75</td>\n      <td> 102.00</td>\n      <td>NaN</td>\n      <td>  7.12</td>\n      <td> 11.00</td>\n      <td>NaN</td>\n      <td> 13.36</td>\n      <td>NaN</td>\n      <td>  32.53</td>\n      <td> 36.13</td>\n      <td> 16.50</td>\n      <td>NaN</td>\n      <td> 23.58</td>\n      <td>  9.88</td>\n      <td> 32.94</td>\n      <td> 10.69</td>\n      <td>NaN</td>\n      <td>...</td>\n    </tr>\n    <tr>\n      <th>2000-01-11</th>\n      <td>NaN</td>\n      <td> 2.31</td>\n      <td>NaN</td>\n      <td> 13.75</td>\n      <td>  95.94</td>\n      <td>NaN</td>\n      <td>  7.50</td>\n      <td> 10.63</td>\n      <td>NaN</td>\n      <td> 13.11</td>\n      <td>NaN</td>\n      <td>  35.03</td>\n      <td> 40.25</td>\n      <td> 14.19</td>\n      <td>NaN</td>\n      <td> 23.28</td>\n      <td>  9.88</td>\n      <td> 34.37</td>\n      <td> 10.56</td>\n      <td>NaN</td>\n      <td>...</td>\n    </tr>\n    <tr>\n      <th>2000-01-12</th>\n      <td>NaN</td>\n      <td> 2.31</td>\n      <td>NaN</td>\n      <td> 13.94</td>\n      <td>  95.00</td>\n      <td>NaN</td>\n      <td>  7.19</td>\n      <td> 11.00</td>\n      <td>NaN</td>\n      <td> 12.05</td>\n      <td>NaN</td>\n      <td>  31.90</td>\n      <td> 40.63</td>\n      <td> 12.91</td>\n      <td>NaN</td>\n      <td> 23.58</td>\n      <td>  9.88</td>\n      <td> 35.19</td>\n      <td> 10.63</td>\n      <td>NaN</td>\n      <td>...</td>\n    </tr>\n    <tr>\n      <th>2000-01-13</th>\n      <td>NaN</td>\n      <td> 2.44</td>\n      <td>NaN</td>\n      <td> 13.75</td>\n      <td>  94.48</td>\n      <td>NaN</td>\n      <td>  7.25</td>\n      <td> 10.75</td>\n      <td>NaN</td>\n      <td> 13.49</td>\n      <td>NaN</td>\n      <td>  27.64</td>\n      <td> 38.50</td>\n      <td> 12.56</td>\n      <td>NaN</td>\n      <td> 23.77</td>\n      <td>  9.88</td>\n      <td> 33.38</td>\n      <td> 10.63</td>\n      <td>NaN</td>\n      <td>...</td>\n    </tr>\n    <tr>\n      <th>2000-01-14</th>\n      <td>NaN</td>\n      <td> 2.44</td>\n      <td>NaN</td>\n      <td> 14.00</td>\n      <td> 100.00</td>\n      <td>NaN</td>\n      <td>  7.25</td>\n      <td> 10.63</td>\n      <td>NaN</td>\n      <td> 13.24</td>\n      <td>NaN</td>\n      <td>  25.02</td>\n      <td> 42.88</td>\n      <td> 13.75</td>\n      <td>NaN</td>\n      <td> 24.26</td>\n      <td>  9.88</td>\n      <td> 31.53</td>\n      <td> 10.78</td>\n      <td>NaN</td>\n      <td>...</td>\n    </tr>\n    <tr>\n      <th>2000-01-18</th>\n      <td>NaN</td>\n      <td> 2.44</td>\n      <td>NaN</td>\n      <td> 14.22</td>\n      <td> 101.00</td>\n      <td>NaN</td>\n      <td>  7.59</td>\n      <td> 10.44</td>\n      <td>NaN</td>\n      <td> 12.74</td>\n      <td>NaN</td>\n      <td>  26.96</td>\n      <td> 45.00</td>\n      <td> 12.62</td>\n      <td>NaN</td>\n      <td> 24.23</td>\n      <td>  9.88</td>\n      <td> 34.94</td>\n      <td> 11.06</td>\n      <td>NaN</td>\n      <td>...</td>\n    </tr>\n    <tr>\n      <th>2000-01-19</th>\n      <td>NaN</td>\n      <td> 2.45</td>\n      <td>NaN</td>\n      <td> 14.38</td>\n      <td> 105.62</td>\n      <td>NaN</td>\n      <td>  8.56</td>\n      <td> 10.38</td>\n      <td>NaN</td>\n      <td> 13.30</td>\n      <td>NaN</td>\n      <td>  25.52</td>\n      <td> 51.50</td>\n      <td> 12.13</td>\n      <td>NaN</td>\n      <td> 23.52</td>\n      <td>  9.88</td>\n      <td> 38.50</td>\n      <td> 11.00</td>\n      <td>NaN</td>\n      <td>...</td>\n    </tr>\n    <tr>\n      <th>2000-01-20</th>\n      <td>NaN</td>\n      <td> 2.50</td>\n      <td>NaN</td>\n      <td> 14.44</td>\n      <td> 115.50</td>\n      <td>NaN</td>\n      <td>  9.00</td>\n      <td>  9.88</td>\n      <td>NaN</td>\n      <td> 13.93</td>\n      <td>NaN</td>\n      <td>  32.53</td>\n      <td> 47.06</td>\n      <td> 12.25</td>\n      <td>NaN</td>\n      <td> 23.09</td>\n      <td> 10.19</td>\n      <td> 36.19</td>\n      <td> 11.00</td>\n      <td>NaN</td>\n      <td>...</td>\n    </tr>\n    <tr>\n      <th>2000-01-21</th>\n      <td>NaN</td>\n      <td> 2.44</td>\n      <td>NaN</td>\n      <td> 14.38</td>\n      <td> 114.25</td>\n      <td>NaN</td>\n      <td>  8.44</td>\n      <td> 10.00</td>\n      <td>NaN</td>\n      <td> 13.74</td>\n      <td>NaN</td>\n      <td>  31.59</td>\n      <td> 47.00</td>\n      <td> 11.94</td>\n      <td>NaN</td>\n      <td> 23.16</td>\n      <td>  9.97</td>\n      <td> 35.69</td>\n      <td> 11.00</td>\n      <td>NaN</td>\n      <td>...</td>\n    </tr>\n    <tr>\n      <th>2000-01-24</th>\n      <td>NaN</td>\n      <td> 2.38</td>\n      <td>NaN</td>\n      <td> 14.53</td>\n      <td> 108.44</td>\n      <td>NaN</td>\n      <td>  9.00</td>\n      <td> 10.25</td>\n      <td>NaN</td>\n      <td> 13.30</td>\n      <td>NaN</td>\n      <td>  35.78</td>\n      <td> 60.25</td>\n      <td> 13.81</td>\n      <td>NaN</td>\n      <td> 23.16</td>\n      <td> 10.00</td>\n      <td> 38.50</td>\n      <td> 11.13</td>\n      <td>NaN</td>\n      <td>...</td>\n    </tr>\n    <tr>\n      <th>2000-01-25</th>\n      <td>NaN</td>\n      <td> 2.38</td>\n      <td>NaN</td>\n      <td> 14.31</td>\n      <td> 105.00</td>\n      <td>NaN</td>\n      <td>  8.75</td>\n      <td> 10.00</td>\n      <td>NaN</td>\n      <td> 12.86</td>\n      <td>NaN</td>\n      <td>  38.03</td>\n      <td> 63.00</td>\n      <td> 12.25</td>\n      <td>NaN</td>\n      <td> 22.42</td>\n      <td>  9.94</td>\n      <td> 40.00</td>\n      <td> 11.00</td>\n      <td>NaN</td>\n      <td>...</td>\n    </tr>\n    <tr>\n      <th>2000-01-26</th>\n      <td>NaN</td>\n      <td> 2.81</td>\n      <td>NaN</td>\n      <td> 14.44</td>\n      <td> 110.00</td>\n      <td>NaN</td>\n      <td>  8.94</td>\n      <td> 10.00</td>\n      <td>NaN</td>\n      <td> 13.24</td>\n      <td>NaN</td>\n      <td>  42.09</td>\n      <td> 59.75</td>\n      <td> 12.69</td>\n      <td>NaN</td>\n      <td> 23.28</td>\n      <td>  9.94</td>\n      <td> 39.81</td>\n      <td> 10.88</td>\n      <td>NaN</td>\n      <td>...</td>\n    </tr>\n    <tr>\n      <th>2000-01-27</th>\n      <td>NaN</td>\n      <td> 2.56</td>\n      <td>NaN</td>\n      <td> 14.38</td>\n      <td> 108.81</td>\n      <td>NaN</td>\n      <td>  8.87</td>\n      <td> 10.00</td>\n      <td>NaN</td>\n      <td> 13.24</td>\n      <td>NaN</td>\n      <td>  37.03</td>\n      <td> 58.50</td>\n      <td> 12.75</td>\n      <td>NaN</td>\n      <td> 23.65</td>\n      <td>  9.88</td>\n      <td> 38.50</td>\n      <td> 10.19</td>\n      <td>NaN</td>\n      <td>...</td>\n    </tr>\n    <tr>\n      <th>2000-01-28</th>\n      <td>NaN</td>\n      <td> 2.56</td>\n      <td>NaN</td>\n      <td> 14.50</td>\n      <td> 108.19</td>\n      <td>NaN</td>\n      <td>  8.62</td>\n      <td> 10.00</td>\n      <td>NaN</td>\n      <td> 11.86</td>\n      <td>NaN</td>\n      <td>  33.84</td>\n      <td> 58.00</td>\n      <td> 13.00</td>\n      <td>NaN</td>\n      <td> 23.40</td>\n      <td>  9.88</td>\n      <td> 37.50</td>\n      <td> 10.50</td>\n      <td>NaN</td>\n      <td>...</td>\n    </tr>\n    <tr>\n      <th>2000-01-31</th>\n      <td>NaN</td>\n      <td> 2.87</td>\n      <td>NaN</td>\n      <td> 16.38</td>\n      <td> 101.00</td>\n      <td>NaN</td>\n      <td>  8.44</td>\n      <td> 10.06</td>\n      <td>NaN</td>\n      <td> 11.86</td>\n      <td>NaN</td>\n      <td>  33.53</td>\n      <td> 58.63</td>\n      <td> 12.09</td>\n      <td>NaN</td>\n      <td> 23.52</td>\n      <td>  9.88</td>\n      <td> 33.69</td>\n      <td> 10.25</td>\n      <td>NaN</td>\n      <td>...</td>\n    </tr>\n    <tr>\n      <th>2000-02-01</th>\n      <td>NaN</td>\n      <td> 2.87</td>\n      <td>NaN</td>\n      <td> 16.00</td>\n      <td> 104.00</td>\n      <td>NaN</td>\n      <td>  7.78</td>\n      <td> 10.38</td>\n      <td>NaN</td>\n      <td> 11.99</td>\n      <td>NaN</td>\n      <td>  31.97</td>\n      <td> 55.50</td>\n      <td> 11.06</td>\n      <td>NaN</td>\n      <td> 25.18</td>\n      <td>  9.88</td>\n      <td> 37.94</td>\n      <td> 11.00</td>\n      <td>NaN</td>\n      <td>...</td>\n    </tr>\n    <tr>\n      <th>2000-02-02</th>\n      <td>NaN</td>\n      <td> 2.56</td>\n      <td>NaN</td>\n      <td> 15.50</td>\n      <td> 100.75</td>\n      <td>NaN</td>\n      <td>  7.88</td>\n      <td> 10.13</td>\n      <td>NaN</td>\n      <td> 11.80</td>\n      <td>NaN</td>\n      <td>  36.47</td>\n      <td> 57.06</td>\n      <td> 10.50</td>\n      <td>NaN</td>\n      <td> 25.73</td>\n      <td>  9.94</td>\n      <td> 36.47</td>\n      <td> 10.84</td>\n      <td>NaN</td>\n      <td>...</td>\n    </tr>\n    <tr>\n      <th>2000-02-03</th>\n      <td>NaN</td>\n      <td> 2.62</td>\n      <td>NaN</td>\n      <td> 15.91</td>\n      <td> 100.31</td>\n      <td>NaN</td>\n      <td>  7.63</td>\n      <td> 10.13</td>\n      <td>NaN</td>\n      <td> 11.62</td>\n      <td>NaN</td>\n      <td>  50.98</td>\n      <td> 55.88</td>\n      <td> 10.63</td>\n      <td>NaN</td>\n      <td> 24.01</td>\n      <td>  9.94</td>\n      <td> 36.59</td>\n      <td> 11.13</td>\n      <td>NaN</td>\n      <td>...</td>\n    </tr>\n    <tr>\n      <th>2000-02-04</th>\n      <td>NaN</td>\n      <td> 2.56</td>\n      <td>NaN</td>\n      <td> 16.25</td>\n      <td> 103.94</td>\n      <td>NaN</td>\n      <td>  7.06</td>\n      <td> 10.25</td>\n      <td>NaN</td>\n      <td> 12.13</td>\n      <td>NaN</td>\n      <td>  59.55</td>\n      <td> 53.75</td>\n      <td> 11.00</td>\n      <td>NaN</td>\n      <td> 24.50</td>\n      <td>  9.88</td>\n      <td> 38.31</td>\n      <td> 11.38</td>\n      <td>NaN</td>\n      <td>...</td>\n    </tr>\n    <tr>\n      <th>2000-02-07</th>\n      <td>NaN</td>\n      <td> 2.72</td>\n      <td>NaN</td>\n      <td> 16.50</td>\n      <td> 108.00</td>\n      <td>NaN</td>\n      <td>  7.94</td>\n      <td> 10.50</td>\n      <td>NaN</td>\n      <td> 12.13</td>\n      <td>NaN</td>\n      <td>  57.05</td>\n      <td> 60.38</td>\n      <td> 11.25</td>\n      <td>NaN</td>\n      <td> 24.01</td>\n      <td>  9.97</td>\n      <td> 43.06</td>\n      <td> 10.75</td>\n      <td>NaN</td>\n      <td>...</td>\n    </tr>\n    <tr>\n      <th>2000-02-08</th>\n      <td>NaN</td>\n      <td> 2.75</td>\n      <td>NaN</td>\n      <td> 16.00</td>\n      <td> 114.00</td>\n      <td>NaN</td>\n      <td>  7.94</td>\n      <td> 10.50</td>\n      <td>NaN</td>\n      <td> 11.87</td>\n      <td>NaN</td>\n      <td>  62.18</td>\n      <td> 58.38</td>\n      <td> 11.38</td>\n      <td>NaN</td>\n      <td> 23.74</td>\n      <td>  9.97</td>\n      <td> 41.75</td>\n      <td> 11.00</td>\n      <td>NaN</td>\n      <td>...</td>\n    </tr>\n    <tr>\n      <th>2000-02-09</th>\n      <td>NaN</td>\n      <td> 2.69</td>\n      <td>NaN</td>\n      <td> 16.62</td>\n      <td> 114.12</td>\n      <td>NaN</td>\n      <td>  7.88</td>\n      <td> 10.25</td>\n      <td>NaN</td>\n      <td> 12.00</td>\n      <td>NaN</td>\n      <td>  67.92</td>\n      <td> 59.19</td>\n      <td> 13.00</td>\n      <td>NaN</td>\n      <td> 24.14</td>\n      <td>  9.88</td>\n      <td> 44.00</td>\n      <td> 10.63</td>\n      <td>NaN</td>\n      <td>...</td>\n    </tr>\n    <tr>\n      <th>2000-02-10</th>\n      <td>NaN</td>\n      <td> 2.69</td>\n      <td>NaN</td>\n      <td> 18.50</td>\n      <td> 112.87</td>\n      <td>NaN</td>\n      <td>  7.69</td>\n      <td> 10.25</td>\n      <td>NaN</td>\n      <td> 11.50</td>\n      <td>NaN</td>\n      <td>  65.30</td>\n      <td> 57.81</td>\n      <td> 12.38</td>\n      <td>NaN</td>\n      <td> 23.77</td>\n      <td>  9.88</td>\n      <td> 47.56</td>\n      <td> 11.19</td>\n      <td>NaN</td>\n      <td>...</td>\n    </tr>\n    <tr>\n      <th>2000-02-11</th>\n      <td>NaN</td>\n      <td> 2.87</td>\n      <td>NaN</td>\n      <td> 18.37</td>\n      <td> 113.62</td>\n      <td>NaN</td>\n      <td>  7.81</td>\n      <td> 10.38</td>\n      <td>NaN</td>\n      <td> 11.25</td>\n      <td>NaN</td>\n      <td>  72.43</td>\n      <td> 58.13</td>\n      <td> 11.50</td>\n      <td>NaN</td>\n      <td> 23.52</td>\n      <td> 10.00</td>\n      <td> 52.00</td>\n      <td> 10.63</td>\n      <td>NaN</td>\n      <td>...</td>\n    </tr>\n    <tr>\n      <th>2000-02-14</th>\n      <td>NaN</td>\n      <td> 2.75</td>\n      <td>NaN</td>\n      <td> 18.25</td>\n      <td> 109.31</td>\n      <td>NaN</td>\n      <td>  7.75</td>\n      <td> 10.13</td>\n      <td>NaN</td>\n      <td> 11.00</td>\n      <td>NaN</td>\n      <td>  71.81</td>\n      <td> 59.00</td>\n      <td> 11.06</td>\n      <td>NaN</td>\n      <td> 23.03</td>\n      <td>  9.88</td>\n      <td> 53.00</td>\n      <td> 10.13</td>\n      <td>NaN</td>\n      <td>...</td>\n    </tr>\n    <tr>\n      <th>2000-02-15</th>\n      <td>NaN</td>\n      <td> 2.69</td>\n      <td>NaN</td>\n      <td> 18.12</td>\n      <td> 115.25</td>\n      <td>NaN</td>\n      <td>  8.09</td>\n      <td> 10.13</td>\n      <td>NaN</td>\n      <td> 10.75</td>\n      <td>NaN</td>\n      <td>  70.93</td>\n      <td> 58.50</td>\n      <td> 11.09</td>\n      <td>NaN</td>\n      <td> 22.48</td>\n      <td>  9.88</td>\n      <td> 55.37</td>\n      <td> 10.50</td>\n      <td>NaN</td>\n      <td>...</td>\n    </tr>\n    <tr>\n      <th>2000-02-16</th>\n      <td>NaN</td>\n      <td> 2.69</td>\n      <td>NaN</td>\n      <td> 17.44</td>\n      <td> 117.75</td>\n      <td>NaN</td>\n      <td>  8.00</td>\n      <td> 10.13</td>\n      <td>NaN</td>\n      <td> 11.19</td>\n      <td>NaN</td>\n      <td>  92.57</td>\n      <td> 65.00</td>\n      <td> 11.00</td>\n      <td>NaN</td>\n      <td> 22.54</td>\n      <td> 10.00</td>\n      <td> 55.37</td>\n      <td> 11.00</td>\n      <td>NaN</td>\n      <td>...</td>\n    </tr>\n    <tr>\n      <th>2000-02-17</th>\n      <td>NaN</td>\n      <td> 2.81</td>\n      <td>NaN</td>\n      <td> 17.75</td>\n      <td> 115.19</td>\n      <td>NaN</td>\n      <td>  7.94</td>\n      <td> 10.13</td>\n      <td>NaN</td>\n      <td> 11.50</td>\n      <td>NaN</td>\n      <td> 100.83</td>\n      <td> 70.06</td>\n      <td> 11.00</td>\n      <td>NaN</td>\n      <td> 22.54</td>\n      <td>  9.94</td>\n      <td> 56.00</td>\n      <td> 11.13</td>\n      <td>NaN</td>\n      <td>...</td>\n    </tr>\n    <tr>\n      <th>2000-02-18</th>\n      <td>NaN</td>\n      <td> 2.69</td>\n      <td>NaN</td>\n      <td> 18.00</td>\n      <td> 114.62</td>\n      <td>NaN</td>\n      <td>  7.84</td>\n      <td> 10.13</td>\n      <td>NaN</td>\n      <td> 11.38</td>\n      <td>NaN</td>\n      <td> 125.22</td>\n      <td> 80.56</td>\n      <td> 10.63</td>\n      <td>NaN</td>\n      <td> 21.81</td>\n      <td> 10.00</td>\n      <td> 62.50</td>\n      <td> 10.91</td>\n      <td>NaN</td>\n      <td>...</td>\n    </tr>\n    <tr>\n      <th>2000-02-22</th>\n      <td>NaN</td>\n      <td> 2.87</td>\n      <td>NaN</td>\n      <td> 17.88</td>\n      <td> 110.12</td>\n      <td>NaN</td>\n      <td>  7.88</td>\n      <td> 10.13</td>\n      <td>NaN</td>\n      <td> 11.87</td>\n      <td>NaN</td>\n      <td> 128.91</td>\n      <td> 78.50</td>\n      <td> 10.13</td>\n      <td>NaN</td>\n      <td> 21.81</td>\n      <td> 10.00</td>\n      <td> 54.00</td>\n      <td> 10.63</td>\n      <td>NaN</td>\n      <td>...</td>\n    </tr>\n    <tr>\n      <th>2000-02-23</th>\n      <td>NaN</td>\n      <td>  NaN</td>\n      <td>NaN</td>\n      <td>   NaN</td>\n      <td> 113.23</td>\n      <td>NaN</td>\n      <td>   NaN</td>\n      <td> 10.19</td>\n      <td>NaN</td>\n      <td>   NaN</td>\n      <td>NaN</td>\n      <td>  98.70</td>\n      <td> 73.87</td>\n      <td>   NaN</td>\n      <td>NaN</td>\n      <td>   NaN</td>\n      <td>   NaN</td>\n      <td>   NaN</td>\n      <td> 11.38</td>\n      <td>NaN</td>\n      <td>...</td>\n    </tr>\n    <tr>\n      <th>2000-02-24</th>\n      <td>NaN</td>\n      <td> 2.56</td>\n      <td>NaN</td>\n      <td> 17.56</td>\n      <td> 117.31</td>\n      <td>NaN</td>\n      <td>  8.06</td>\n      <td> 10.00</td>\n      <td>NaN</td>\n      <td> 11.12</td>\n      <td>NaN</td>\n      <td> 103.20</td>\n      <td> 71.00</td>\n      <td>  9.50</td>\n      <td>NaN</td>\n      <td> 21.26</td>\n      <td> 10.00</td>\n      <td> 52.66</td>\n      <td> 11.38</td>\n      <td>NaN</td>\n      <td>...</td>\n    </tr>\n    <tr>\n      <th>2000-02-25</th>\n      <td>NaN</td>\n      <td> 2.56</td>\n      <td>NaN</td>\n      <td> 17.69</td>\n      <td> 114.81</td>\n      <td>NaN</td>\n      <td>  7.81</td>\n      <td> 10.00</td>\n      <td>NaN</td>\n      <td> 10.00</td>\n      <td>NaN</td>\n      <td>  97.58</td>\n      <td> 72.87</td>\n      <td>  9.38</td>\n      <td>NaN</td>\n      <td> 21.68</td>\n      <td> 10.00</td>\n      <td> 54.75</td>\n      <td> 10.25</td>\n      <td>NaN</td>\n      <td>...</td>\n    </tr>\n    <tr>\n      <th>2000-02-28</th>\n      <td>NaN</td>\n      <td> 2.75</td>\n      <td>NaN</td>\n      <td> 17.88</td>\n      <td> 110.12</td>\n      <td>NaN</td>\n      <td>  7.69</td>\n      <td>  9.75</td>\n      <td>NaN</td>\n      <td>  9.81</td>\n      <td>NaN</td>\n      <td>  98.95</td>\n      <td> 75.00</td>\n      <td>  9.38</td>\n      <td>NaN</td>\n      <td> 22.18</td>\n      <td> 10.12</td>\n      <td> 59.75</td>\n      <td> 10.00</td>\n      <td>NaN</td>\n      <td>...</td>\n    </tr>\n    <tr>\n      <th>2000-02-29</th>\n      <td>NaN</td>\n      <td> 2.50</td>\n      <td>NaN</td>\n      <td> 17.50</td>\n      <td> 113.56</td>\n      <td>NaN</td>\n      <td>  7.31</td>\n      <td>  9.88</td>\n      <td>NaN</td>\n      <td>  9.50</td>\n      <td>NaN</td>\n      <td>  91.51</td>\n      <td> 75.00</td>\n      <td>  9.62</td>\n      <td>NaN</td>\n      <td> 21.87</td>\n      <td> 10.06</td>\n      <td> 62.87</td>\n      <td> 10.38</td>\n      <td>NaN</td>\n      <td>...</td>\n    </tr>\n    <tr>\n      <th>2000-03-01</th>\n      <td>NaN</td>\n      <td> 2.62</td>\n      <td>NaN</td>\n      <td> 17.00</td>\n      <td> 118.56</td>\n      <td>NaN</td>\n      <td>  8.06</td>\n      <td>  9.88</td>\n      <td>NaN</td>\n      <td>  9.62</td>\n      <td>NaN</td>\n      <td> 106.08</td>\n      <td> 68.12</td>\n      <td> 10.81</td>\n      <td>NaN</td>\n      <td> 23.28</td>\n      <td> 10.06</td>\n      <td> 69.00</td>\n      <td> 10.25</td>\n      <td>NaN</td>\n      <td>...</td>\n    </tr>\n    <tr>\n      <th>2000-03-02</th>\n      <td>NaN</td>\n      <td> 2.69</td>\n      <td>NaN</td>\n      <td> 16.38</td>\n      <td> 127.00</td>\n      <td>NaN</td>\n      <td>  8.62</td>\n      <td> 10.00</td>\n      <td>NaN</td>\n      <td>  9.50</td>\n      <td>NaN</td>\n      <td> 103.14</td>\n      <td> 68.12</td>\n      <td> 10.88</td>\n      <td>NaN</td>\n      <td> 23.19</td>\n      <td> 10.00</td>\n      <td> 70.00</td>\n      <td> 10.25</td>\n      <td>NaN</td>\n      <td>...</td>\n    </tr>\n    <tr>\n      <th>2000-03-03</th>\n      <td>NaN</td>\n      <td> 2.53</td>\n      <td>NaN</td>\n      <td> 16.25</td>\n      <td> 124.87</td>\n      <td>NaN</td>\n      <td>  8.62</td>\n      <td>  9.88</td>\n      <td>NaN</td>\n      <td>  9.50</td>\n      <td>NaN</td>\n      <td>  91.94</td>\n      <td> 66.75</td>\n      <td> 10.00</td>\n      <td>NaN</td>\n      <td> 22.54</td>\n      <td> 10.06</td>\n      <td> 70.00</td>\n      <td> 10.31</td>\n      <td>NaN</td>\n      <td>...</td>\n    </tr>\n    <tr>\n      <th>2000-03-06</th>\n      <td>NaN</td>\n      <td> 2.50</td>\n      <td>NaN</td>\n      <td> 16.62</td>\n      <td> 126.00</td>\n      <td>NaN</td>\n      <td> 10.50</td>\n      <td>  9.88</td>\n      <td>NaN</td>\n      <td> 10.12</td>\n      <td>NaN</td>\n      <td>  97.45</td>\n      <td> 67.87</td>\n      <td> 10.44</td>\n      <td>NaN</td>\n      <td> 22.85</td>\n      <td> 10.00</td>\n      <td> 69.25</td>\n      <td> 10.25</td>\n      <td>NaN</td>\n      <td>...</td>\n    </tr>\n    <tr>\n      <th>2000-03-07</th>\n      <td>NaN</td>\n      <td> 2.44</td>\n      <td>NaN</td>\n      <td> 16.59</td>\n      <td> 126.44</td>\n      <td>NaN</td>\n      <td>  9.31</td>\n      <td>  9.94</td>\n      <td>NaN</td>\n      <td> 10.12</td>\n      <td>NaN</td>\n      <td>  95.20</td>\n      <td> 68.00</td>\n      <td> 10.81</td>\n      <td>NaN</td>\n      <td> 23.06</td>\n      <td> 10.12</td>\n      <td> 71.75</td>\n      <td> 10.25</td>\n      <td>NaN</td>\n      <td>...</td>\n    </tr>\n    <tr>\n      <th>2000-03-08</th>\n      <td>NaN</td>\n      <td> 2.62</td>\n      <td>NaN</td>\n      <td> 17.12</td>\n      <td> 122.87</td>\n      <td>NaN</td>\n      <td>  9.00</td>\n      <td> 10.00</td>\n      <td>NaN</td>\n      <td> 10.00</td>\n      <td>NaN</td>\n      <td>  83.07</td>\n      <td> 65.69</td>\n      <td> 11.00</td>\n      <td>NaN</td>\n      <td> 22.11</td>\n      <td> 10.00</td>\n      <td> 83.06</td>\n      <td> 10.38</td>\n      <td>NaN</td>\n      <td>...</td>\n    </tr>\n    <tr>\n      <th>2000-03-09</th>\n      <td>NaN</td>\n      <td> 2.94</td>\n      <td>NaN</td>\n      <td> 17.50</td>\n      <td> 120.87</td>\n      <td>NaN</td>\n      <td>  9.00</td>\n      <td>  9.94</td>\n      <td>NaN</td>\n      <td> 10.00</td>\n      <td>NaN</td>\n      <td>  74.81</td>\n      <td> 59.50</td>\n      <td> 10.81</td>\n      <td>NaN</td>\n      <td> 22.11</td>\n      <td>  9.94</td>\n      <td> 90.62</td>\n      <td> 10.19</td>\n      <td>NaN</td>\n      <td>...</td>\n    </tr>\n    <tr>\n      <th>2000-03-10</th>\n      <td>NaN</td>\n      <td> 2.69</td>\n      <td>NaN</td>\n      <td> 18.00</td>\n      <td> 121.69</td>\n      <td>NaN</td>\n      <td>  9.50</td>\n      <td>  9.97</td>\n      <td>NaN</td>\n      <td>  9.50</td>\n      <td>NaN</td>\n      <td>  66.67</td>\n      <td> 61.50</td>\n      <td> 10.13</td>\n      <td>NaN</td>\n      <td> 21.50</td>\n      <td>  9.94</td>\n      <td> 94.75</td>\n      <td> 10.19</td>\n      <td>NaN</td>\n      <td>...</td>\n    </tr>\n    <tr>\n      <th>2000-03-13</th>\n      <td>NaN</td>\n      <td> 2.81</td>\n      <td>NaN</td>\n      <td> 18.37</td>\n      <td> 122.12</td>\n      <td>NaN</td>\n      <td>  9.50</td>\n      <td> 10.00</td>\n      <td>NaN</td>\n      <td> 10.37</td>\n      <td>NaN</td>\n      <td>  60.68</td>\n      <td> 62.00</td>\n      <td>  9.66</td>\n      <td>NaN</td>\n      <td> 22.25</td>\n      <td> 10.03</td>\n      <td> 83.50</td>\n      <td> 10.19</td>\n      <td>NaN</td>\n      <td>...</td>\n    </tr>\n    <tr>\n      <th>2000-03-14</th>\n      <td>NaN</td>\n      <td> 2.81</td>\n      <td>NaN</td>\n      <td> 18.00</td>\n      <td> 121.22</td>\n      <td>NaN</td>\n      <td>  9.75</td>\n      <td>  9.94</td>\n      <td>NaN</td>\n      <td> 10.12</td>\n      <td>NaN</td>\n      <td>  65.05</td>\n      <td> 57.88</td>\n      <td> 10.25</td>\n      <td>NaN</td>\n      <td> 22.37</td>\n      <td>  9.94</td>\n      <td> 83.25</td>\n      <td>  9.63</td>\n      <td>NaN</td>\n      <td>...</td>\n    </tr>\n    <tr>\n      <th>2000-03-15</th>\n      <td>NaN</td>\n      <td> 2.53</td>\n      <td>NaN</td>\n      <td> 18.25</td>\n      <td> 115.62</td>\n      <td>NaN</td>\n      <td>  9.38</td>\n      <td>  9.94</td>\n      <td>NaN</td>\n      <td> 11.00</td>\n      <td>NaN</td>\n      <td>  44.92</td>\n      <td> 52.75</td>\n      <td> 10.50</td>\n      <td>NaN</td>\n      <td> 22.00</td>\n      <td> 10.00</td>\n      <td> 73.00</td>\n      <td>  9.69</td>\n      <td>NaN</td>\n      <td>...</td>\n    </tr>\n    <tr>\n      <th>2000-03-16</th>\n      <td>NaN</td>\n      <td> 2.69</td>\n      <td>NaN</td>\n      <td> 17.56</td>\n      <td> 117.31</td>\n      <td>NaN</td>\n      <td>  9.00</td>\n      <td>  9.94</td>\n      <td>NaN</td>\n      <td> 11.56</td>\n      <td>NaN</td>\n      <td>  48.04</td>\n      <td> 49.63</td>\n      <td> 10.06</td>\n      <td>NaN</td>\n      <td> 22.50</td>\n      <td> 10.00</td>\n      <td> 75.00</td>\n      <td>  9.81</td>\n      <td>NaN</td>\n      <td>...</td>\n    </tr>\n    <tr>\n      <th>2000-03-17</th>\n      <td>NaN</td>\n      <td> 2.62</td>\n      <td>NaN</td>\n      <td> 18.00</td>\n      <td> 120.12</td>\n      <td>NaN</td>\n      <td>  8.56</td>\n      <td> 10.00</td>\n      <td>NaN</td>\n      <td> 10.88</td>\n      <td>NaN</td>\n      <td>  49.48</td>\n      <td> 48.25</td>\n      <td>  9.19</td>\n      <td>NaN</td>\n      <td> 22.81</td>\n      <td> 10.06</td>\n      <td> 69.25</td>\n      <td> 10.00</td>\n      <td>NaN</td>\n      <td>...</td>\n    </tr>\n    <tr>\n      <th>2000-03-20</th>\n      <td>NaN</td>\n      <td> 2.78</td>\n      <td>NaN</td>\n      <td> 18.00</td>\n      <td> 123.50</td>\n      <td>NaN</td>\n      <td>  8.62</td>\n      <td>  9.94</td>\n      <td>NaN</td>\n      <td> 11.25</td>\n      <td>NaN</td>\n      <td>  57.91</td>\n      <td> 51.56</td>\n      <td>  9.00</td>\n      <td>NaN</td>\n      <td> 22.88</td>\n      <td> 10.00</td>\n      <td> 74.87</td>\n      <td>  9.81</td>\n      <td>NaN</td>\n      <td>...</td>\n    </tr>\n    <tr>\n      <th>2000-03-21</th>\n      <td>NaN</td>\n      <td> 2.53</td>\n      <td>NaN</td>\n      <td> 17.88</td>\n      <td> 122.56</td>\n      <td>NaN</td>\n      <td>  8.22</td>\n      <td>  9.94</td>\n      <td>NaN</td>\n      <td> 11.25</td>\n      <td>NaN</td>\n      <td>  49.29</td>\n      <td> 45.63</td>\n      <td>  8.34</td>\n      <td>NaN</td>\n      <td> 23.06</td>\n      <td> 10.00</td>\n      <td> 60.88</td>\n      <td>  9.81</td>\n      <td>NaN</td>\n      <td>...</td>\n    </tr>\n    <tr>\n      <th>2000-03-22</th>\n      <td>NaN</td>\n      <td> 2.56</td>\n      <td>NaN</td>\n      <td> 18.00</td>\n      <td> 132.78</td>\n      <td>NaN</td>\n      <td>  7.88</td>\n      <td>  9.94</td>\n      <td>NaN</td>\n      <td> 11.38</td>\n      <td>NaN</td>\n      <td>  55.92</td>\n      <td> 53.25</td>\n      <td>  8.12</td>\n      <td>NaN</td>\n      <td> 23.06</td>\n      <td> 10.00</td>\n      <td> 46.06</td>\n      <td>  9.63</td>\n      <td>NaN</td>\n      <td>...</td>\n    </tr>\n    <tr>\n      <th>2000-03-23</th>\n      <td>NaN</td>\n      <td> 2.78</td>\n      <td>NaN</td>\n      <td> 17.50</td>\n      <td> 142.00</td>\n      <td>NaN</td>\n      <td>  8.50</td>\n      <td> 10.00</td>\n      <td>NaN</td>\n      <td> 11.31</td>\n      <td>NaN</td>\n      <td>  61.77</td>\n      <td> 54.38</td>\n      <td>  8.25</td>\n      <td>NaN</td>\n      <td> 22.31</td>\n      <td> 10.06</td>\n      <td> 55.25</td>\n      <td>  9.75</td>\n      <td>NaN</td>\n      <td>...</td>\n    </tr>\n    <tr>\n      <th>2000-03-24</th>\n      <td>NaN</td>\n      <td> 2.50</td>\n      <td>NaN</td>\n      <td> 17.44</td>\n      <td> 142.44</td>\n      <td>NaN</td>\n      <td>  9.17</td>\n      <td> 10.00</td>\n      <td>NaN</td>\n      <td> 11.31</td>\n      <td>NaN</td>\n      <td>  63.05</td>\n      <td> 51.00</td>\n      <td>  8.00</td>\n      <td>NaN</td>\n      <td> 22.94</td>\n      <td> 10.00</td>\n      <td> 57.06</td>\n      <td> 10.00</td>\n      <td>NaN</td>\n      <td>...</td>\n    </tr>\n    <tr>\n      <th>2000-03-27</th>\n      <td>NaN</td>\n      <td> 2.75</td>\n      <td>NaN</td>\n      <td> 17.75</td>\n      <td> 137.63</td>\n      <td>NaN</td>\n      <td>  8.75</td>\n      <td> 10.00</td>\n      <td>NaN</td>\n      <td> 11.62</td>\n      <td>NaN</td>\n      <td>  53.54</td>\n      <td> 49.06</td>\n      <td>  8.12</td>\n      <td>NaN</td>\n      <td> 24.06</td>\n      <td> 10.00</td>\n      <td> 52.88</td>\n      <td>  9.88</td>\n      <td>NaN</td>\n      <td>...</td>\n    </tr>\n    <tr>\n      <th>2000-03-28</th>\n      <td>NaN</td>\n      <td> 2.69</td>\n      <td>NaN</td>\n      <td> 17.25</td>\n      <td> 137.25</td>\n      <td>NaN</td>\n      <td>  8.75</td>\n      <td> 10.00</td>\n      <td>NaN</td>\n      <td> 11.12</td>\n      <td>NaN</td>\n      <td>  48.17</td>\n      <td> 46.50</td>\n      <td>  9.25</td>\n      <td>NaN</td>\n      <td> 25.06</td>\n      <td> 10.00</td>\n      <td> 51.38</td>\n      <td> 10.25</td>\n      <td>NaN</td>\n      <td>...</td>\n    </tr>\n    <tr>\n      <th></th>\n      <td>...</td>\n      <td>...</td>\n      <td>...</td>\n      <td>...</td>\n      <td>...</td>\n      <td>...</td>\n      <td>...</td>\n      <td>...</td>\n      <td>...</td>\n      <td>...</td>\n      <td>...</td>\n      <td>...</td>\n      <td>...</td>\n      <td>...</td>\n      <td>...</td>\n      <td>...</td>\n      <td>...</td>\n      <td>...</td>\n      <td>...</td>\n      <td>...</td>\n    </tr>\n  </tbody>\n</table>\n<p>3521 rows \u00d7 489 columns</p>\n</div>",
       "metadata": {},
       "output_type": "pyout",
       "prompt_number": 185,
       "text": "            AAL  AAME  AAOI   AAON    AAPL  AAWW   ABAX   ABCB  ABCD   ABFS  \\\nDate                                                                          \n2000-01-03  NaN  2.38   NaN  14.75  104.87   NaN   7.75  10.94   NaN  12.24   \n2000-01-04  NaN  2.38   NaN  14.63  108.25   NaN   7.63  10.50   NaN  12.61   \n2000-01-05  NaN  2.31   NaN  14.38  103.75   NaN   6.75  10.50   NaN  12.74   \n2000-01-06  NaN  2.31   NaN  14.63  106.12   NaN   7.06  10.69   NaN  12.74   \n2000-01-07  NaN  2.31   NaN  14.12   96.50   NaN   7.16  10.88   NaN  13.43   \n2000-01-10  NaN  2.38   NaN  13.75  102.00   NaN   7.12  11.00   NaN  13.36   \n2000-01-11  NaN  2.31   NaN  13.75   95.94   NaN   7.50  10.63   NaN  13.11   \n2000-01-12  NaN  2.31   NaN  13.94   95.00   NaN   7.19  11.00   NaN  12.05   \n2000-01-13  NaN  2.44   NaN  13.75   94.48   NaN   7.25  10.75   NaN  13.49   \n2000-01-14  NaN  2.44   NaN  14.00  100.00   NaN   7.25  10.63   NaN  13.24   \n2000-01-18  NaN  2.44   NaN  14.22  101.00   NaN   7.59  10.44   NaN  12.74   \n2000-01-19  NaN  2.45   NaN  14.38  105.62   NaN   8.56  10.38   NaN  13.30   \n2000-01-20  NaN  2.50   NaN  14.44  115.50   NaN   9.00   9.88   NaN  13.93   \n2000-01-21  NaN  2.44   NaN  14.38  114.25   NaN   8.44  10.00   NaN  13.74   \n2000-01-24  NaN  2.38   NaN  14.53  108.44   NaN   9.00  10.25   NaN  13.30   \n2000-01-25  NaN  2.38   NaN  14.31  105.00   NaN   8.75  10.00   NaN  12.86   \n2000-01-26  NaN  2.81   NaN  14.44  110.00   NaN   8.94  10.00   NaN  13.24   \n2000-01-27  NaN  2.56   NaN  14.38  108.81   NaN   8.87  10.00   NaN  13.24   \n2000-01-28  NaN  2.56   NaN  14.50  108.19   NaN   8.62  10.00   NaN  11.86   \n2000-01-31  NaN  2.87   NaN  16.38  101.00   NaN   8.44  10.06   NaN  11.86   \n2000-02-01  NaN  2.87   NaN  16.00  104.00   NaN   7.78  10.38   NaN  11.99   \n2000-02-02  NaN  2.56   NaN  15.50  100.75   NaN   7.88  10.13   NaN  11.80   \n2000-02-03  NaN  2.62   NaN  15.91  100.31   NaN   7.63  10.13   NaN  11.62   \n2000-02-04  NaN  2.56   NaN  16.25  103.94   NaN   7.06  10.25   NaN  12.13   \n2000-02-07  NaN  2.72   NaN  16.50  108.00   NaN   7.94  10.50   NaN  12.13   \n2000-02-08  NaN  2.75   NaN  16.00  114.00   NaN   7.94  10.50   NaN  11.87   \n2000-02-09  NaN  2.69   NaN  16.62  114.12   NaN   7.88  10.25   NaN  12.00   \n2000-02-10  NaN  2.69   NaN  18.50  112.87   NaN   7.69  10.25   NaN  11.50   \n2000-02-11  NaN  2.87   NaN  18.37  113.62   NaN   7.81  10.38   NaN  11.25   \n2000-02-14  NaN  2.75   NaN  18.25  109.31   NaN   7.75  10.13   NaN  11.00   \n2000-02-15  NaN  2.69   NaN  18.12  115.25   NaN   8.09  10.13   NaN  10.75   \n2000-02-16  NaN  2.69   NaN  17.44  117.75   NaN   8.00  10.13   NaN  11.19   \n2000-02-17  NaN  2.81   NaN  17.75  115.19   NaN   7.94  10.13   NaN  11.50   \n2000-02-18  NaN  2.69   NaN  18.00  114.62   NaN   7.84  10.13   NaN  11.38   \n2000-02-22  NaN  2.87   NaN  17.88  110.12   NaN   7.88  10.13   NaN  11.87   \n2000-02-23  NaN   NaN   NaN    NaN  113.23   NaN    NaN  10.19   NaN    NaN   \n2000-02-24  NaN  2.56   NaN  17.56  117.31   NaN   8.06  10.00   NaN  11.12   \n2000-02-25  NaN  2.56   NaN  17.69  114.81   NaN   7.81  10.00   NaN  10.00   \n2000-02-28  NaN  2.75   NaN  17.88  110.12   NaN   7.69   9.75   NaN   9.81   \n2000-02-29  NaN  2.50   NaN  17.50  113.56   NaN   7.31   9.88   NaN   9.50   \n2000-03-01  NaN  2.62   NaN  17.00  118.56   NaN   8.06   9.88   NaN   9.62   \n2000-03-02  NaN  2.69   NaN  16.38  127.00   NaN   8.62  10.00   NaN   9.50   \n2000-03-03  NaN  2.53   NaN  16.25  124.87   NaN   8.62   9.88   NaN   9.50   \n2000-03-06  NaN  2.50   NaN  16.62  126.00   NaN  10.50   9.88   NaN  10.12   \n2000-03-07  NaN  2.44   NaN  16.59  126.44   NaN   9.31   9.94   NaN  10.12   \n2000-03-08  NaN  2.62   NaN  17.12  122.87   NaN   9.00  10.00   NaN  10.00   \n2000-03-09  NaN  2.94   NaN  17.50  120.87   NaN   9.00   9.94   NaN  10.00   \n2000-03-10  NaN  2.69   NaN  18.00  121.69   NaN   9.50   9.97   NaN   9.50   \n2000-03-13  NaN  2.81   NaN  18.37  122.12   NaN   9.50  10.00   NaN  10.37   \n2000-03-14  NaN  2.81   NaN  18.00  121.22   NaN   9.75   9.94   NaN  10.12   \n2000-03-15  NaN  2.53   NaN  18.25  115.62   NaN   9.38   9.94   NaN  11.00   \n2000-03-16  NaN  2.69   NaN  17.56  117.31   NaN   9.00   9.94   NaN  11.56   \n2000-03-17  NaN  2.62   NaN  18.00  120.12   NaN   8.56  10.00   NaN  10.88   \n2000-03-20  NaN  2.78   NaN  18.00  123.50   NaN   8.62   9.94   NaN  11.25   \n2000-03-21  NaN  2.53   NaN  17.88  122.56   NaN   8.22   9.94   NaN  11.25   \n2000-03-22  NaN  2.56   NaN  18.00  132.78   NaN   7.88   9.94   NaN  11.38   \n2000-03-23  NaN  2.78   NaN  17.50  142.00   NaN   8.50  10.00   NaN  11.31   \n2000-03-24  NaN  2.50   NaN  17.44  142.44   NaN   9.17  10.00   NaN  11.31   \n2000-03-27  NaN  2.75   NaN  17.75  137.63   NaN   8.75  10.00   NaN  11.62   \n2000-03-28  NaN  2.69   NaN  17.25  137.25   NaN   8.75  10.00   NaN  11.12   \n            ...   ...   ...    ...     ...   ...    ...    ...   ...    ...   \n\n            ABGB    ABIO   ABMD   ABTL  ACAD   ACAS   ACAT   ACCL   ACET  \\\nDate                                                                       \n2000-01-03   NaN   17.70  37.03  15.75   NaN  22.54   9.94  22.63  11.00   \n2000-01-04   NaN   14.51  37.00  15.31   NaN  21.62  10.00  21.62  10.38   \n2000-01-05   NaN   16.38  34.13  16.19   NaN  22.27   9.94  22.50  10.06   \n2000-01-06   NaN   18.20  35.25  17.06   NaN  22.54   9.88  22.94  10.44   \n2000-01-07   NaN   20.52  36.00  17.12   NaN  22.27   9.88  28.25  10.94   \n2000-01-10   NaN   32.53  36.13  16.50   NaN  23.58   9.88  32.94  10.69   \n2000-01-11   NaN   35.03  40.25  14.19   NaN  23.28   9.88  34.37  10.56   \n2000-01-12   NaN   31.90  40.63  12.91   NaN  23.58   9.88  35.19  10.63   \n2000-01-13   NaN   27.64  38.50  12.56   NaN  23.77   9.88  33.38  10.63   \n2000-01-14   NaN   25.02  42.88  13.75   NaN  24.26   9.88  31.53  10.78   \n2000-01-18   NaN   26.96  45.00  12.62   NaN  24.23   9.88  34.94  11.06   \n2000-01-19   NaN   25.52  51.50  12.13   NaN  23.52   9.88  38.50  11.00   \n2000-01-20   NaN   32.53  47.06  12.25   NaN  23.09  10.19  36.19  11.00   \n2000-01-21   NaN   31.59  47.00  11.94   NaN  23.16   9.97  35.69  11.00   \n2000-01-24   NaN   35.78  60.25  13.81   NaN  23.16  10.00  38.50  11.13   \n2000-01-25   NaN   38.03  63.00  12.25   NaN  22.42   9.94  40.00  11.00   \n2000-01-26   NaN   42.09  59.75  12.69   NaN  23.28   9.94  39.81  10.88   \n2000-01-27   NaN   37.03  58.50  12.75   NaN  23.65   9.88  38.50  10.19   \n2000-01-28   NaN   33.84  58.00  13.00   NaN  23.40   9.88  37.50  10.50   \n2000-01-31   NaN   33.53  58.63  12.09   NaN  23.52   9.88  33.69  10.25   \n2000-02-01   NaN   31.97  55.50  11.06   NaN  25.18   9.88  37.94  11.00   \n2000-02-02   NaN   36.47  57.06  10.50   NaN  25.73   9.94  36.47  10.84   \n2000-02-03   NaN   50.98  55.88  10.63   NaN  24.01   9.94  36.59  11.13   \n2000-02-04   NaN   59.55  53.75  11.00   NaN  24.50   9.88  38.31  11.38   \n2000-02-07   NaN   57.05  60.38  11.25   NaN  24.01   9.97  43.06  10.75   \n2000-02-08   NaN   62.18  58.38  11.38   NaN  23.74   9.97  41.75  11.00   \n2000-02-09   NaN   67.92  59.19  13.00   NaN  24.14   9.88  44.00  10.63   \n2000-02-10   NaN   65.30  57.81  12.38   NaN  23.77   9.88  47.56  11.19   \n2000-02-11   NaN   72.43  58.13  11.50   NaN  23.52  10.00  52.00  10.63   \n2000-02-14   NaN   71.81  59.00  11.06   NaN  23.03   9.88  53.00  10.13   \n2000-02-15   NaN   70.93  58.50  11.09   NaN  22.48   9.88  55.37  10.50   \n2000-02-16   NaN   92.57  65.00  11.00   NaN  22.54  10.00  55.37  11.00   \n2000-02-17   NaN  100.83  70.06  11.00   NaN  22.54   9.94  56.00  11.13   \n2000-02-18   NaN  125.22  80.56  10.63   NaN  21.81  10.00  62.50  10.91   \n2000-02-22   NaN  128.91  78.50  10.13   NaN  21.81  10.00  54.00  10.63   \n2000-02-23   NaN   98.70  73.87    NaN   NaN    NaN    NaN    NaN  11.38   \n2000-02-24   NaN  103.20  71.00   9.50   NaN  21.26  10.00  52.66  11.38   \n2000-02-25   NaN   97.58  72.87   9.38   NaN  21.68  10.00  54.75  10.25   \n2000-02-28   NaN   98.95  75.00   9.38   NaN  22.18  10.12  59.75  10.00   \n2000-02-29   NaN   91.51  75.00   9.62   NaN  21.87  10.06  62.87  10.38   \n2000-03-01   NaN  106.08  68.12  10.81   NaN  23.28  10.06  69.00  10.25   \n2000-03-02   NaN  103.14  68.12  10.88   NaN  23.19  10.00  70.00  10.25   \n2000-03-03   NaN   91.94  66.75  10.00   NaN  22.54  10.06  70.00  10.31   \n2000-03-06   NaN   97.45  67.87  10.44   NaN  22.85  10.00  69.25  10.25   \n2000-03-07   NaN   95.20  68.00  10.81   NaN  23.06  10.12  71.75  10.25   \n2000-03-08   NaN   83.07  65.69  11.00   NaN  22.11  10.00  83.06  10.38   \n2000-03-09   NaN   74.81  59.50  10.81   NaN  22.11   9.94  90.62  10.19   \n2000-03-10   NaN   66.67  61.50  10.13   NaN  21.50   9.94  94.75  10.19   \n2000-03-13   NaN   60.68  62.00   9.66   NaN  22.25  10.03  83.50  10.19   \n2000-03-14   NaN   65.05  57.88  10.25   NaN  22.37   9.94  83.25   9.63   \n2000-03-15   NaN   44.92  52.75  10.50   NaN  22.00  10.00  73.00   9.69   \n2000-03-16   NaN   48.04  49.63  10.06   NaN  22.50  10.00  75.00   9.81   \n2000-03-17   NaN   49.48  48.25   9.19   NaN  22.81  10.06  69.25  10.00   \n2000-03-20   NaN   57.91  51.56   9.00   NaN  22.88  10.00  74.87   9.81   \n2000-03-21   NaN   49.29  45.63   8.34   NaN  23.06  10.00  60.88   9.81   \n2000-03-22   NaN   55.92  53.25   8.12   NaN  23.06  10.00  46.06   9.63   \n2000-03-23   NaN   61.77  54.38   8.25   NaN  22.31  10.06  55.25   9.75   \n2000-03-24   NaN   63.05  51.00   8.00   NaN  22.94  10.00  57.06  10.00   \n2000-03-27   NaN   53.54  49.06   8.12   NaN  24.06  10.00  52.88   9.88   \n2000-03-28   NaN   48.17  46.50   9.25   NaN  25.06  10.00  51.38  10.25   \n             ...     ...    ...    ...   ...    ...    ...    ...    ...   \n\n            ACFC      \nDate                  \n2000-01-03   NaN ...  \n2000-01-04   NaN ...  \n2000-01-05   NaN ...  \n2000-01-06   NaN ...  \n2000-01-07   NaN ...  \n2000-01-10   NaN ...  \n2000-01-11   NaN ...  \n2000-01-12   NaN ...  \n2000-01-13   NaN ...  \n2000-01-14   NaN ...  \n2000-01-18   NaN ...  \n2000-01-19   NaN ...  \n2000-01-20   NaN ...  \n2000-01-21   NaN ...  \n2000-01-24   NaN ...  \n2000-01-25   NaN ...  \n2000-01-26   NaN ...  \n2000-01-27   NaN ...  \n2000-01-28   NaN ...  \n2000-01-31   NaN ...  \n2000-02-01   NaN ...  \n2000-02-02   NaN ...  \n2000-02-03   NaN ...  \n2000-02-04   NaN ...  \n2000-02-07   NaN ...  \n2000-02-08   NaN ...  \n2000-02-09   NaN ...  \n2000-02-10   NaN ...  \n2000-02-11   NaN ...  \n2000-02-14   NaN ...  \n2000-02-15   NaN ...  \n2000-02-16   NaN ...  \n2000-02-17   NaN ...  \n2000-02-18   NaN ...  \n2000-02-22   NaN ...  \n2000-02-23   NaN ...  \n2000-02-24   NaN ...  \n2000-02-25   NaN ...  \n2000-02-28   NaN ...  \n2000-02-29   NaN ...  \n2000-03-01   NaN ...  \n2000-03-02   NaN ...  \n2000-03-03   NaN ...  \n2000-03-06   NaN ...  \n2000-03-07   NaN ...  \n2000-03-08   NaN ...  \n2000-03-09   NaN ...  \n2000-03-10   NaN ...  \n2000-03-13   NaN ...  \n2000-03-14   NaN ...  \n2000-03-15   NaN ...  \n2000-03-16   NaN ...  \n2000-03-17   NaN ...  \n2000-03-20   NaN ...  \n2000-03-21   NaN ...  \n2000-03-22   NaN ...  \n2000-03-23   NaN ...  \n2000-03-24   NaN ...  \n2000-03-27   NaN ...  \n2000-03-28   NaN ...  \n             ...      \n\n[3521 rows x 489 columns]"
      }
     ],
     "prompt_number": 185
    },
    {
     "cell_type": "markdown",
     "metadata": {},
     "source": "The names of the items are Open, High, Low, Close, Volume, and Adj Close."
    },
    {
     "cell_type": "code",
     "collapsed": false,
     "input": "stock_data.items",
     "language": "python",
     "metadata": {},
     "outputs": [
      {
       "metadata": {},
       "output_type": "pyout",
       "prompt_number": 186,
       "text": "Index([u'Open', u'High', u'Low', u'Close', u'Volume', u'Adj Close'], dtype='object')"
      }
     ],
     "prompt_number": 186
    },
    {
     "cell_type": "heading",
     "level": 3,
     "metadata": {},
     "source": "Using the current date and time"
    },
    {
     "cell_type": "markdown",
     "metadata": {},
     "source": "If you decided to query prices for all stocks up until the current date and time, you could use date.datetime.now() to get the current date. As an example, this just looks at prices since last Wednesday."
    },
    {
     "cell_type": "code",
     "collapsed": false,
     "input": "stocks_till_now = web.DataReader(['GOOG','CARA'], \"yahoo\", date.datetime(2014, 2, 19), date.datetime.now())\nstocks_till_now['Open']",
     "language": "python",
     "metadata": {},
     "outputs": [
      {
       "html": "<div style=\"max-height:1000px;max-width:1500px;overflow:auto;\">\n<table border=\"1\" class=\"dataframe\">\n  <thead>\n    <tr style=\"text-align: right;\">\n      <th></th>\n      <th>CARA</th>\n      <th>GOOG</th>\n    </tr>\n    <tr>\n      <th>Date</th>\n      <th></th>\n      <th></th>\n    </tr>\n  </thead>\n  <tbody>\n    <tr>\n      <th>2014-02-19</th>\n      <td>   NaN</td>\n      <td> 1205.30</td>\n    </tr>\n    <tr>\n      <th>2014-02-20</th>\n      <td>   NaN</td>\n      <td> 1203.14</td>\n    </tr>\n    <tr>\n      <th>2014-02-21</th>\n      <td>   NaN</td>\n      <td> 1207.81</td>\n    </tr>\n    <tr>\n      <th>2014-02-24</th>\n      <td> 15.29</td>\n      <td> 1205.36</td>\n    </tr>\n    <tr>\n      <th>2014-02-25</th>\n      <td> 15.32</td>\n      <td> 1215.94</td>\n    </tr>\n    <tr>\n      <th>2014-02-26</th>\n      <td> 15.23</td>\n      <td> 1224.00</td>\n    </tr>\n  </tbody>\n</table>\n<p>6 rows \u00d7 2 columns</p>\n</div>",
       "metadata": {},
       "output_type": "pyout",
       "prompt_number": 195,
       "text": "             CARA     GOOG\nDate                      \n2014-02-19    NaN  1205.30\n2014-02-20    NaN  1203.14\n2014-02-21    NaN  1207.81\n2014-02-24  15.29  1205.36\n2014-02-25  15.32  1215.94\n2014-02-26  15.23  1224.00\n\n[6 rows x 2 columns]"
      }
     ],
     "prompt_number": 195
    },
    {
     "cell_type": "markdown",
     "metadata": {},
     "source": "But DataReader still fails for stocks where there just isn't any data, like CREG."
    },
    {
     "cell_type": "code",
     "collapsed": false,
     "input": "stocks_till_now = web.DataReader(['CARA', 'CREG'], \"yahoo\", date.datetime(2014, 2, 19), date.datetime.now())",
     "language": "python",
     "metadata": {},
     "outputs": [
      {
       "ename": "RemoteDataError",
       "evalue": "No data fetched using '_get_hist_yahoo'",
       "output_type": "pyerr",
       "traceback": [
        "\u001b[0;31m---------------------------------------------------------------------------\u001b[0m\n\u001b[0;31mRemoteDataError\u001b[0m                           Traceback (most recent call last)",
        "\u001b[0;32m<ipython-input-196-ecca44b5d856>\u001b[0m in \u001b[0;36m<module>\u001b[0;34m()\u001b[0m\n\u001b[0;32m----> 1\u001b[0;31m \u001b[0mstocks_till_now\u001b[0m \u001b[0;34m=\u001b[0m \u001b[0mweb\u001b[0m\u001b[0;34m.\u001b[0m\u001b[0mDataReader\u001b[0m\u001b[0;34m(\u001b[0m\u001b[0;34m[\u001b[0m\u001b[0;34m'CARA'\u001b[0m\u001b[0;34m,\u001b[0m \u001b[0;34m'CREG'\u001b[0m\u001b[0;34m]\u001b[0m\u001b[0;34m,\u001b[0m \u001b[0;34m\"yahoo\"\u001b[0m\u001b[0;34m,\u001b[0m \u001b[0mdate\u001b[0m\u001b[0;34m.\u001b[0m\u001b[0mdatetime\u001b[0m\u001b[0;34m(\u001b[0m\u001b[0;36m2014\u001b[0m\u001b[0;34m,\u001b[0m \u001b[0;36m2\u001b[0m\u001b[0;34m,\u001b[0m \u001b[0;36m19\u001b[0m\u001b[0;34m)\u001b[0m\u001b[0;34m,\u001b[0m \u001b[0mdate\u001b[0m\u001b[0;34m.\u001b[0m\u001b[0mdatetime\u001b[0m\u001b[0;34m.\u001b[0m\u001b[0mnow\u001b[0m\u001b[0;34m(\u001b[0m\u001b[0;34m)\u001b[0m\u001b[0;34m)\u001b[0m\u001b[0;34m\u001b[0m\u001b[0m\n\u001b[0m",
        "\u001b[0;32m/Users/pandatop/anaconda/lib/python2.7/site-packages/pandas/io/data.pyc\u001b[0m in \u001b[0;36mDataReader\u001b[0;34m(name, data_source, start, end, retry_count, pause)\u001b[0m\n\u001b[1;32m     75\u001b[0m         return get_data_yahoo(symbols=name, start=start, end=end,\n\u001b[1;32m     76\u001b[0m                               \u001b[0madjust_price\u001b[0m\u001b[0;34m=\u001b[0m\u001b[0mFalse\u001b[0m\u001b[0;34m,\u001b[0m \u001b[0mchunksize\u001b[0m\u001b[0;34m=\u001b[0m\u001b[0;36m25\u001b[0m\u001b[0;34m,\u001b[0m\u001b[0;34m\u001b[0m\u001b[0m\n\u001b[0;32m---> 77\u001b[0;31m                               retry_count=retry_count, pause=pause)\n\u001b[0m\u001b[1;32m     78\u001b[0m     \u001b[0;32melif\u001b[0m \u001b[0mdata_source\u001b[0m \u001b[0;34m==\u001b[0m \u001b[0;34m\"google\"\u001b[0m\u001b[0;34m:\u001b[0m\u001b[0;34m\u001b[0m\u001b[0m\n\u001b[1;32m     79\u001b[0m         return get_data_google(symbols=name, start=start, end=end,\n",
        "\u001b[0;32m/Users/pandatop/anaconda/lib/python2.7/site-packages/pandas/io/data.pyc\u001b[0m in \u001b[0;36mget_data_yahoo\u001b[0;34m(symbols, start, end, retry_count, pause, adjust_price, ret_index, chunksize, name)\u001b[0m\n\u001b[1;32m    394\u001b[0m     \"\"\"\n\u001b[1;32m    395\u001b[0m     return _get_data_from(symbols, start, end, retry_count, pause,\n\u001b[0;32m--> 396\u001b[0;31m                           adjust_price, ret_index, chunksize, 'yahoo', name)\n\u001b[0m\u001b[1;32m    397\u001b[0m \u001b[0;34m\u001b[0m\u001b[0m\n\u001b[1;32m    398\u001b[0m \u001b[0;34m\u001b[0m\u001b[0m\n",
        "\u001b[0;32m/Users/pandatop/anaconda/lib/python2.7/site-packages/pandas/io/data.pyc\u001b[0m in \u001b[0;36m_get_data_from\u001b[0;34m(symbols, start, end, retry_count, pause, adjust_price, ret_index, chunksize, source, name)\u001b[0m\n\u001b[1;32m    347\u001b[0m     \u001b[0;32melse\u001b[0m\u001b[0;34m:\u001b[0m\u001b[0;34m\u001b[0m\u001b[0m\n\u001b[1;32m    348\u001b[0m         hist_data = _dl_mult_symbols(symbols, start, end, chunksize,\n\u001b[0;32m--> 349\u001b[0;31m                                      retry_count, pause, src_fn)\n\u001b[0m\u001b[1;32m    350\u001b[0m     \u001b[0;32mif\u001b[0m \u001b[0msource\u001b[0m\u001b[0;34m.\u001b[0m\u001b[0mlower\u001b[0m\u001b[0;34m(\u001b[0m\u001b[0;34m)\u001b[0m \u001b[0;34m==\u001b[0m \u001b[0;34m'yahoo'\u001b[0m\u001b[0;34m:\u001b[0m\u001b[0;34m\u001b[0m\u001b[0m\n\u001b[1;32m    351\u001b[0m         \u001b[0;32mif\u001b[0m \u001b[0mret_index\u001b[0m\u001b[0;34m:\u001b[0m\u001b[0;34m\u001b[0m\u001b[0m\n",
        "\u001b[0;32m/Users/pandatop/anaconda/lib/python2.7/site-packages/pandas/io/data.pyc\u001b[0m in \u001b[0;36m_dl_mult_symbols\u001b[0;34m(symbols, start, end, chunksize, retry_count, pause, method)\u001b[0m\n\u001b[1;32m    323\u001b[0m         \u001b[0;31m# cannot construct a panel with just 1D nans indicating no data\u001b[0m\u001b[0;34m\u001b[0m\u001b[0;34m\u001b[0m\u001b[0m\n\u001b[1;32m    324\u001b[0m         raise RemoteDataError(\"No data fetched using \"\n\u001b[0;32m--> 325\u001b[0;31m                               \"{0!r}\".format(method.__name__))\n\u001b[0m\u001b[1;32m    326\u001b[0m \u001b[0;34m\u001b[0m\u001b[0m\n\u001b[1;32m    327\u001b[0m \u001b[0;34m\u001b[0m\u001b[0m\n",
        "\u001b[0;31mRemoteDataError\u001b[0m: No data fetched using '_get_hist_yahoo'"
       ]
      }
     ],
     "prompt_number": 196
    },
    {
     "cell_type": "code",
     "collapsed": false,
     "input": "",
     "language": "python",
     "metadata": {},
     "outputs": []
    }
   ],
   "metadata": {}
  }
 ]
}